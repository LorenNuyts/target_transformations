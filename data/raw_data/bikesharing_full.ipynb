{
 "cells": [
  {
   "metadata": {
    "ExecuteTime": {
     "end_time": "2024-06-06T15:40:54.663642Z",
     "start_time": "2024-06-06T15:40:54.661590Z"
    }
   },
   "cell_type": "code",
   "source": [
    "from ucimlrepo import fetch_ucirepo\n",
    "import os"
   ],
   "id": "1e55c8dd2f1231e3",
   "outputs": [],
   "execution_count": 7
  },
  {
   "metadata": {
    "ExecuteTime": {
     "end_time": "2024-06-06T15:40:54.694305Z",
     "start_time": "2024-06-06T15:40:54.676178Z"
    }
   },
   "cell_type": "code",
   "source": [
    "# Path to store the dataset\n",
    "base_path = \".\"\n",
    "source_data_h5 = \"BikeSharingFull.h5\"\n",
    "source_data_h5_path = os.path.join(base_path, \"..\", \"datasets\", source_data_h5)"
   ],
   "id": "8357b0795116aef2",
   "outputs": [],
   "execution_count": 8
  },
  {
   "cell_type": "code",
   "id": "initial_id",
   "metadata": {
    "collapsed": true,
    "ExecuteTime": {
     "end_time": "2024-06-06T15:40:56.667392Z",
     "start_time": "2024-06-06T15:40:54.729955Z"
    }
   },
   "source": [
    "full_dataset = fetch_ucirepo(id=275)\n",
    "X_full = full_dataset.data.original.drop(columns=['cnt', 'instant'])\n",
    "y = full_dataset.data.targets.squeeze()\n",
    "X_full.to_hdf(source_data_h5_path, key='X', complevel=9)\n",
    "y.to_hdf(source_data_h5_path, key='y', complevel=9)"
   ],
   "outputs": [],
   "execution_count": 9
  }
 ],
 "metadata": {
  "kernelspec": {
   "display_name": "Python 3",
   "language": "python",
   "name": "python3"
  },
  "language_info": {
   "codemirror_mode": {
    "name": "ipython",
    "version": 2
   },
   "file_extension": ".py",
   "mimetype": "text/x-python",
   "name": "python",
   "nbconvert_exporter": "python",
   "pygments_lexer": "ipython2",
   "version": "2.7.6"
  }
 },
 "nbformat": 4,
 "nbformat_minor": 5
}
