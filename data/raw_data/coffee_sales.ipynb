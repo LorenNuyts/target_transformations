{
 "cells": [
  {
   "cell_type": "code",
   "id": "initial_id",
   "metadata": {
    "collapsed": true,
    "ExecuteTime": {
     "end_time": "2024-09-13T12:32:27.433564Z",
     "start_time": "2024-09-13T12:32:27.040043Z"
    }
   },
   "source": [
    "import pandas as pd\n",
    "import os"
   ],
   "outputs": [],
   "execution_count": 1
  },
  {
   "metadata": {},
   "cell_type": "markdown",
   "source": "# Load the data",
   "id": "2f9ad426da1e0b83"
  },
  {
   "metadata": {
    "ExecuteTime": {
     "end_time": "2024-09-13T14:55:55.356087Z",
     "start_time": "2024-09-13T14:55:55.352206Z"
    }
   },
   "cell_type": "code",
   "source": [
    "base_path = \".\"\n",
    "destination_data_h5_path = os.path.join(base_path, \"..\", \"datasets\", \"CoffeeSales.h5\")\n",
    "source_data = os.path.join(base_path, \"data\", \"coffee_sales\", \"index.csv\")"
   ],
   "id": "3f7d676f01ca750b",
   "outputs": [
    {
     "name": "stdout",
     "output_type": "stream",
     "text": [
      "./../datasets/CoffeeSales.h5\n"
     ]
    }
   ],
   "execution_count": 58
  },
  {
   "metadata": {
    "ExecuteTime": {
     "end_time": "2024-09-13T14:41:33.939781Z",
     "start_time": "2024-09-13T14:41:33.929165Z"
    }
   },
   "cell_type": "code",
   "source": [
    "df = pd.read_csv(source_data)\n",
    "print(df.shape)"
   ],
   "id": "aa8a3568f68f584e",
   "outputs": [
    {
     "name": "stdout",
     "output_type": "stream",
     "text": [
      "(1464, 6)\n"
     ]
    }
   ],
   "execution_count": 45
  },
  {
   "metadata": {
    "ExecuteTime": {
     "end_time": "2024-09-13T14:43:56.622580Z",
     "start_time": "2024-09-13T14:43:56.604744Z"
    }
   },
   "cell_type": "code",
   "source": [
    "df['date'] = pd.to_datetime(df['date'])\n",
    "df.head()"
   ],
   "id": "4cd08f9240ae14d7",
   "outputs": [
    {
     "data": {
      "text/plain": [
       "        date                 datetime cash_type                 card  money  \\\n",
       "0 2024-03-01  2024-03-01 10:15:50.520      card  ANON-0000-0000-0001   38.7   \n",
       "1 2024-03-01  2024-03-01 12:19:22.539      card  ANON-0000-0000-0002   38.7   \n",
       "2 2024-03-01  2024-03-01 12:20:18.089      card  ANON-0000-0000-0002   38.7   \n",
       "3 2024-03-01  2024-03-01 13:46:33.006      card  ANON-0000-0000-0003   28.9   \n",
       "4 2024-03-01  2024-03-01 13:48:14.626      card  ANON-0000-0000-0004   38.7   \n",
       "\n",
       "     coffee_name  \n",
       "0          Latte  \n",
       "1  Hot Chocolate  \n",
       "2  Hot Chocolate  \n",
       "3      Americano  \n",
       "4          Latte  "
      ],
      "text/html": [
       "<div>\n",
       "<style scoped>\n",
       "    .dataframe tbody tr th:only-of-type {\n",
       "        vertical-align: middle;\n",
       "    }\n",
       "\n",
       "    .dataframe tbody tr th {\n",
       "        vertical-align: top;\n",
       "    }\n",
       "\n",
       "    .dataframe thead th {\n",
       "        text-align: right;\n",
       "    }\n",
       "</style>\n",
       "<table border=\"1\" class=\"dataframe\">\n",
       "  <thead>\n",
       "    <tr style=\"text-align: right;\">\n",
       "      <th></th>\n",
       "      <th>date</th>\n",
       "      <th>datetime</th>\n",
       "      <th>cash_type</th>\n",
       "      <th>card</th>\n",
       "      <th>money</th>\n",
       "      <th>coffee_name</th>\n",
       "    </tr>\n",
       "  </thead>\n",
       "  <tbody>\n",
       "    <tr>\n",
       "      <th>0</th>\n",
       "      <td>2024-03-01</td>\n",
       "      <td>2024-03-01 10:15:50.520</td>\n",
       "      <td>card</td>\n",
       "      <td>ANON-0000-0000-0001</td>\n",
       "      <td>38.7</td>\n",
       "      <td>Latte</td>\n",
       "    </tr>\n",
       "    <tr>\n",
       "      <th>1</th>\n",
       "      <td>2024-03-01</td>\n",
       "      <td>2024-03-01 12:19:22.539</td>\n",
       "      <td>card</td>\n",
       "      <td>ANON-0000-0000-0002</td>\n",
       "      <td>38.7</td>\n",
       "      <td>Hot Chocolate</td>\n",
       "    </tr>\n",
       "    <tr>\n",
       "      <th>2</th>\n",
       "      <td>2024-03-01</td>\n",
       "      <td>2024-03-01 12:20:18.089</td>\n",
       "      <td>card</td>\n",
       "      <td>ANON-0000-0000-0002</td>\n",
       "      <td>38.7</td>\n",
       "      <td>Hot Chocolate</td>\n",
       "    </tr>\n",
       "    <tr>\n",
       "      <th>3</th>\n",
       "      <td>2024-03-01</td>\n",
       "      <td>2024-03-01 13:46:33.006</td>\n",
       "      <td>card</td>\n",
       "      <td>ANON-0000-0000-0003</td>\n",
       "      <td>28.9</td>\n",
       "      <td>Americano</td>\n",
       "    </tr>\n",
       "    <tr>\n",
       "      <th>4</th>\n",
       "      <td>2024-03-01</td>\n",
       "      <td>2024-03-01 13:48:14.626</td>\n",
       "      <td>card</td>\n",
       "      <td>ANON-0000-0000-0004</td>\n",
       "      <td>38.7</td>\n",
       "      <td>Latte</td>\n",
       "    </tr>\n",
       "  </tbody>\n",
       "</table>\n",
       "</div>"
      ]
     },
     "execution_count": 48,
     "metadata": {},
     "output_type": "execute_result"
    }
   ],
   "execution_count": 48
  },
  {
   "metadata": {},
   "cell_type": "markdown",
   "source": "# Group by days",
   "id": "1c042ef075fbefbf"
  },
  {
   "metadata": {
    "ExecuteTime": {
     "end_time": "2024-09-13T14:44:01.892253Z",
     "start_time": "2024-09-13T14:44:01.881486Z"
    }
   },
   "cell_type": "code",
   "source": [
    "# Count the number of coffee sold each day\n",
    "daily_sales = df.groupby(['date', 'coffee_name']).size().unstack(fill_value=0)\n",
    "daily_sales.index.names = ['date']\n",
    "\n",
    "# Count the number of coffees sold each day\n",
    "daily_sales['Total'] = df.groupby(['date']).size()\n",
    "daily_sales.head()"
   ],
   "id": "474310df6780c148",
   "outputs": [
    {
     "data": {
      "text/plain": [
       "coffee_name  Americano  Americano with Milk  Cappuccino  Cocoa  Cortado  \\\n",
       "date                                                                      \n",
       "2024-03-01           1                    4           0      1        0   \n",
       "2024-03-02           3                    3           0      0        0   \n",
       "2024-03-03           1                    2           0      1        2   \n",
       "2024-03-04           0                    1           0      0        0   \n",
       "2024-03-05           0                    0           0      1        1   \n",
       "\n",
       "coffee_name  Espresso  Hot Chocolate  Latte  Total  \n",
       "date                                                \n",
       "2024-03-01          0              3      2     11  \n",
       "2024-03-02          0              0      1      7  \n",
       "2024-03-03          0              2      2     10  \n",
       "2024-03-04          1              0      2      4  \n",
       "2024-03-05          0              4      3      9  "
      ],
      "text/html": [
       "<div>\n",
       "<style scoped>\n",
       "    .dataframe tbody tr th:only-of-type {\n",
       "        vertical-align: middle;\n",
       "    }\n",
       "\n",
       "    .dataframe tbody tr th {\n",
       "        vertical-align: top;\n",
       "    }\n",
       "\n",
       "    .dataframe thead th {\n",
       "        text-align: right;\n",
       "    }\n",
       "</style>\n",
       "<table border=\"1\" class=\"dataframe\">\n",
       "  <thead>\n",
       "    <tr style=\"text-align: right;\">\n",
       "      <th>coffee_name</th>\n",
       "      <th>Americano</th>\n",
       "      <th>Americano with Milk</th>\n",
       "      <th>Cappuccino</th>\n",
       "      <th>Cocoa</th>\n",
       "      <th>Cortado</th>\n",
       "      <th>Espresso</th>\n",
       "      <th>Hot Chocolate</th>\n",
       "      <th>Latte</th>\n",
       "      <th>Total</th>\n",
       "    </tr>\n",
       "    <tr>\n",
       "      <th>date</th>\n",
       "      <th></th>\n",
       "      <th></th>\n",
       "      <th></th>\n",
       "      <th></th>\n",
       "      <th></th>\n",
       "      <th></th>\n",
       "      <th></th>\n",
       "      <th></th>\n",
       "      <th></th>\n",
       "    </tr>\n",
       "  </thead>\n",
       "  <tbody>\n",
       "    <tr>\n",
       "      <th>2024-03-01</th>\n",
       "      <td>1</td>\n",
       "      <td>4</td>\n",
       "      <td>0</td>\n",
       "      <td>1</td>\n",
       "      <td>0</td>\n",
       "      <td>0</td>\n",
       "      <td>3</td>\n",
       "      <td>2</td>\n",
       "      <td>11</td>\n",
       "    </tr>\n",
       "    <tr>\n",
       "      <th>2024-03-02</th>\n",
       "      <td>3</td>\n",
       "      <td>3</td>\n",
       "      <td>0</td>\n",
       "      <td>0</td>\n",
       "      <td>0</td>\n",
       "      <td>0</td>\n",
       "      <td>0</td>\n",
       "      <td>1</td>\n",
       "      <td>7</td>\n",
       "    </tr>\n",
       "    <tr>\n",
       "      <th>2024-03-03</th>\n",
       "      <td>1</td>\n",
       "      <td>2</td>\n",
       "      <td>0</td>\n",
       "      <td>1</td>\n",
       "      <td>2</td>\n",
       "      <td>0</td>\n",
       "      <td>2</td>\n",
       "      <td>2</td>\n",
       "      <td>10</td>\n",
       "    </tr>\n",
       "    <tr>\n",
       "      <th>2024-03-04</th>\n",
       "      <td>0</td>\n",
       "      <td>1</td>\n",
       "      <td>0</td>\n",
       "      <td>0</td>\n",
       "      <td>0</td>\n",
       "      <td>1</td>\n",
       "      <td>0</td>\n",
       "      <td>2</td>\n",
       "      <td>4</td>\n",
       "    </tr>\n",
       "    <tr>\n",
       "      <th>2024-03-05</th>\n",
       "      <td>0</td>\n",
       "      <td>0</td>\n",
       "      <td>0</td>\n",
       "      <td>1</td>\n",
       "      <td>1</td>\n",
       "      <td>0</td>\n",
       "      <td>4</td>\n",
       "      <td>3</td>\n",
       "      <td>9</td>\n",
       "    </tr>\n",
       "  </tbody>\n",
       "</table>\n",
       "</div>"
      ]
     },
     "execution_count": 49,
     "metadata": {},
     "output_type": "execute_result"
    }
   ],
   "execution_count": 49
  },
  {
   "metadata": {},
   "cell_type": "markdown",
   "source": "# Group by months",
   "id": "180f95a5f697085a"
  },
  {
   "metadata": {
    "ExecuteTime": {
     "end_time": "2024-09-13T14:52:14.569390Z",
     "start_time": "2024-09-13T14:52:14.546898Z"
    }
   },
   "cell_type": "code",
   "source": [
    "# Count the number of coffee sold each month\n",
    "monthly_sales = df.groupby([df['date'].dt.to_period('M'), 'coffee_name']).size().unstack(fill_value=0)\n",
    "monthly_sales.index.names = ['month']\n",
    "\n",
    "# Count the number of coffees sold each day\n",
    "monthly_sales['Total'] = df.groupby(df['date'].dt.to_period('M')).size()\n",
    "monthly_sales.head()"
   ],
   "id": "8e012cedfddd6a1d",
   "outputs": [
    {
     "data": {
      "text/plain": [
       "coffee_name  Americano  Americano with Milk  Cappuccino  Cocoa  Cortado  \\\n",
       "month                                                                     \n",
       "2024-03             36                   34          20      6       30   \n",
       "2024-04             35                   42          43      6       19   \n",
       "2024-05             48                   58          55      9       17   \n",
       "2024-06             14                   69          46      5       19   \n",
       "2024-07             36                   65          32      9       14   \n",
       "\n",
       "coffee_name  Espresso  Hot Chocolate  Latte  Total  \n",
       "month                                               \n",
       "2024-03            10             22     48    206  \n",
       "2024-04             7             13     31    196  \n",
       "2024-05             8             14     58    267  \n",
       "2024-06            10             14     50    227  \n",
       "2024-07            14             11     56    237  "
      ],
      "text/html": [
       "<div>\n",
       "<style scoped>\n",
       "    .dataframe tbody tr th:only-of-type {\n",
       "        vertical-align: middle;\n",
       "    }\n",
       "\n",
       "    .dataframe tbody tr th {\n",
       "        vertical-align: top;\n",
       "    }\n",
       "\n",
       "    .dataframe thead th {\n",
       "        text-align: right;\n",
       "    }\n",
       "</style>\n",
       "<table border=\"1\" class=\"dataframe\">\n",
       "  <thead>\n",
       "    <tr style=\"text-align: right;\">\n",
       "      <th>coffee_name</th>\n",
       "      <th>Americano</th>\n",
       "      <th>Americano with Milk</th>\n",
       "      <th>Cappuccino</th>\n",
       "      <th>Cocoa</th>\n",
       "      <th>Cortado</th>\n",
       "      <th>Espresso</th>\n",
       "      <th>Hot Chocolate</th>\n",
       "      <th>Latte</th>\n",
       "      <th>Total</th>\n",
       "    </tr>\n",
       "    <tr>\n",
       "      <th>month</th>\n",
       "      <th></th>\n",
       "      <th></th>\n",
       "      <th></th>\n",
       "      <th></th>\n",
       "      <th></th>\n",
       "      <th></th>\n",
       "      <th></th>\n",
       "      <th></th>\n",
       "      <th></th>\n",
       "    </tr>\n",
       "  </thead>\n",
       "  <tbody>\n",
       "    <tr>\n",
       "      <th>2024-03</th>\n",
       "      <td>36</td>\n",
       "      <td>34</td>\n",
       "      <td>20</td>\n",
       "      <td>6</td>\n",
       "      <td>30</td>\n",
       "      <td>10</td>\n",
       "      <td>22</td>\n",
       "      <td>48</td>\n",
       "      <td>206</td>\n",
       "    </tr>\n",
       "    <tr>\n",
       "      <th>2024-04</th>\n",
       "      <td>35</td>\n",
       "      <td>42</td>\n",
       "      <td>43</td>\n",
       "      <td>6</td>\n",
       "      <td>19</td>\n",
       "      <td>7</td>\n",
       "      <td>13</td>\n",
       "      <td>31</td>\n",
       "      <td>196</td>\n",
       "    </tr>\n",
       "    <tr>\n",
       "      <th>2024-05</th>\n",
       "      <td>48</td>\n",
       "      <td>58</td>\n",
       "      <td>55</td>\n",
       "      <td>9</td>\n",
       "      <td>17</td>\n",
       "      <td>8</td>\n",
       "      <td>14</td>\n",
       "      <td>58</td>\n",
       "      <td>267</td>\n",
       "    </tr>\n",
       "    <tr>\n",
       "      <th>2024-06</th>\n",
       "      <td>14</td>\n",
       "      <td>69</td>\n",
       "      <td>46</td>\n",
       "      <td>5</td>\n",
       "      <td>19</td>\n",
       "      <td>10</td>\n",
       "      <td>14</td>\n",
       "      <td>50</td>\n",
       "      <td>227</td>\n",
       "    </tr>\n",
       "    <tr>\n",
       "      <th>2024-07</th>\n",
       "      <td>36</td>\n",
       "      <td>65</td>\n",
       "      <td>32</td>\n",
       "      <td>9</td>\n",
       "      <td>14</td>\n",
       "      <td>14</td>\n",
       "      <td>11</td>\n",
       "      <td>56</td>\n",
       "      <td>237</td>\n",
       "    </tr>\n",
       "  </tbody>\n",
       "</table>\n",
       "</div>"
      ]
     },
     "execution_count": 56,
     "metadata": {},
     "output_type": "execute_result"
    }
   ],
   "execution_count": 56
  },
  {
   "metadata": {},
   "cell_type": "markdown",
   "source": "# Save the data",
   "id": "f388bd84524e2c94"
  },
  {
   "metadata": {
    "ExecuteTime": {
     "end_time": "2024-09-13T14:56:23.206969Z",
     "start_time": "2024-09-13T14:56:23.191395Z"
    }
   },
   "cell_type": "code",
   "source": [
    "daily_sales.to_hdf(destination_data_h5_path, key='daily_sales', mode='w')\n",
    "monthly_sales.to_hdf(destination_data_h5_path, key='monthly_sales', mode='a')"
   ],
   "id": "4c8fce7f65c98ce0",
   "outputs": [],
   "execution_count": 59
  }
 ],
 "metadata": {
  "kernelspec": {
   "display_name": "Python 3",
   "language": "python",
   "name": "python3"
  },
  "language_info": {
   "codemirror_mode": {
    "name": "ipython",
    "version": 2
   },
   "file_extension": ".py",
   "mimetype": "text/x-python",
   "name": "python",
   "nbconvert_exporter": "python",
   "pygments_lexer": "ipython2",
   "version": "2.7.6"
  }
 },
 "nbformat": 4,
 "nbformat_minor": 5
}
