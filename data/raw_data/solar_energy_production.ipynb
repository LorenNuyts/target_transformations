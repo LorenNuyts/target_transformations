{
 "cells": [
  {
   "cell_type": "code",
   "id": "initial_id",
   "metadata": {
    "collapsed": true,
    "ExecuteTime": {
     "end_time": "2024-09-20T10:14:57.266415Z",
     "start_time": "2024-09-20T10:14:57.262930Z"
    }
   },
   "source": [
    "import pandas as pd\n",
    "import os\n",
    "import matplotlib.pyplot as plt\n",
    "from astral.geocoder import database, lookup\n",
    "from astral.sun import daylight"
   ],
   "outputs": [],
   "execution_count": 63
  },
  {
   "metadata": {},
   "cell_type": "markdown",
   "source": "# Load the data",
   "id": "700744cf24f7b498"
  },
  {
   "metadata": {
    "ExecuteTime": {
     "end_time": "2024-09-20T10:14:57.321667Z",
     "start_time": "2024-09-20T10:14:57.315717Z"
    }
   },
   "cell_type": "code",
   "source": [
    "base_path = \".\"\n",
    "destination_data_h5_path = os.path.join(base_path, \"..\", \"datasets\", \"SolarEnergyProduction.h5\")\n",
    "source_data = os.path.join(base_path, \"data\", \"SolarEnergyProduction\", \"Solar_Energy_Production.csv\")"
   ],
   "id": "3f4524ebc9d2c11f",
   "outputs": [],
   "execution_count": 64
  },
  {
   "metadata": {
    "ExecuteTime": {
     "end_time": "2024-09-20T10:14:58.493806Z",
     "start_time": "2024-09-20T10:14:57.368345Z"
    }
   },
   "cell_type": "code",
   "source": [
    "df = pd.read_csv(source_data)\n",
    "print(df.shape)\n",
    "df['date'] = pd.to_datetime(df['date'])\n",
    "df.head()"
   ],
   "id": "5d3dc0e930a04f75",
   "outputs": [
    {
     "name": "stdout",
     "output_type": "stream",
     "text": [
      "(258423, 8)\n"
     ]
    },
    {
     "data": {
      "text/plain": [
       "                             name      id        address                date  \\\n",
       "0  Calgary Fire Hall Headquarters  314106  1212 42 AV SE 2017-09-11 08:00:00   \n",
       "1  Calgary Fire Hall Headquarters  314106  1212 42 AV SE 2017-09-11 09:00:00   \n",
       "2  Calgary Fire Hall Headquarters  314106  1212 42 AV SE 2017-09-11 10:00:00   \n",
       "3  Calgary Fire Hall Headquarters  314106  1212 42 AV SE 2017-09-11 11:00:00   \n",
       "4  Calgary Fire Hall Headquarters  314106  1212 42 AV SE 2017-09-11 12:00:00   \n",
       "\n",
       "     kWh                                         public_url installationDate  \\\n",
       "0  1.130  https://monitoring.solaredge.com/solaredge-web...       2016/11/07   \n",
       "1  2.340  https://monitoring.solaredge.com/solaredge-web...       2016/11/07   \n",
       "2  3.656  https://monitoring.solaredge.com/solaredge-web...       2016/11/07   \n",
       "3  4.577  https://monitoring.solaredge.com/solaredge-web...       2016/11/07   \n",
       "4  6.506  https://monitoring.solaredge.com/solaredge-web...       2016/11/07   \n",
       "\n",
       "                         uid  \n",
       "0  3141062017-09-11 08:00:00  \n",
       "1  3141062017-09-11 09:00:00  \n",
       "2  3141062017-09-11 10:00:00  \n",
       "3  3141062017-09-11 11:00:00  \n",
       "4  3141062017-09-11 12:00:00  "
      ],
      "text/html": [
       "<div>\n",
       "<style scoped>\n",
       "    .dataframe tbody tr th:only-of-type {\n",
       "        vertical-align: middle;\n",
       "    }\n",
       "\n",
       "    .dataframe tbody tr th {\n",
       "        vertical-align: top;\n",
       "    }\n",
       "\n",
       "    .dataframe thead th {\n",
       "        text-align: right;\n",
       "    }\n",
       "</style>\n",
       "<table border=\"1\" class=\"dataframe\">\n",
       "  <thead>\n",
       "    <tr style=\"text-align: right;\">\n",
       "      <th></th>\n",
       "      <th>name</th>\n",
       "      <th>id</th>\n",
       "      <th>address</th>\n",
       "      <th>date</th>\n",
       "      <th>kWh</th>\n",
       "      <th>public_url</th>\n",
       "      <th>installationDate</th>\n",
       "      <th>uid</th>\n",
       "    </tr>\n",
       "  </thead>\n",
       "  <tbody>\n",
       "    <tr>\n",
       "      <th>0</th>\n",
       "      <td>Calgary Fire Hall Headquarters</td>\n",
       "      <td>314106</td>\n",
       "      <td>1212 42 AV SE</td>\n",
       "      <td>2017-09-11 08:00:00</td>\n",
       "      <td>1.130</td>\n",
       "      <td>https://monitoring.solaredge.com/solaredge-web...</td>\n",
       "      <td>2016/11/07</td>\n",
       "      <td>3141062017-09-11 08:00:00</td>\n",
       "    </tr>\n",
       "    <tr>\n",
       "      <th>1</th>\n",
       "      <td>Calgary Fire Hall Headquarters</td>\n",
       "      <td>314106</td>\n",
       "      <td>1212 42 AV SE</td>\n",
       "      <td>2017-09-11 09:00:00</td>\n",
       "      <td>2.340</td>\n",
       "      <td>https://monitoring.solaredge.com/solaredge-web...</td>\n",
       "      <td>2016/11/07</td>\n",
       "      <td>3141062017-09-11 09:00:00</td>\n",
       "    </tr>\n",
       "    <tr>\n",
       "      <th>2</th>\n",
       "      <td>Calgary Fire Hall Headquarters</td>\n",
       "      <td>314106</td>\n",
       "      <td>1212 42 AV SE</td>\n",
       "      <td>2017-09-11 10:00:00</td>\n",
       "      <td>3.656</td>\n",
       "      <td>https://monitoring.solaredge.com/solaredge-web...</td>\n",
       "      <td>2016/11/07</td>\n",
       "      <td>3141062017-09-11 10:00:00</td>\n",
       "    </tr>\n",
       "    <tr>\n",
       "      <th>3</th>\n",
       "      <td>Calgary Fire Hall Headquarters</td>\n",
       "      <td>314106</td>\n",
       "      <td>1212 42 AV SE</td>\n",
       "      <td>2017-09-11 11:00:00</td>\n",
       "      <td>4.577</td>\n",
       "      <td>https://monitoring.solaredge.com/solaredge-web...</td>\n",
       "      <td>2016/11/07</td>\n",
       "      <td>3141062017-09-11 11:00:00</td>\n",
       "    </tr>\n",
       "    <tr>\n",
       "      <th>4</th>\n",
       "      <td>Calgary Fire Hall Headquarters</td>\n",
       "      <td>314106</td>\n",
       "      <td>1212 42 AV SE</td>\n",
       "      <td>2017-09-11 12:00:00</td>\n",
       "      <td>6.506</td>\n",
       "      <td>https://monitoring.solaredge.com/solaredge-web...</td>\n",
       "      <td>2016/11/07</td>\n",
       "      <td>3141062017-09-11 12:00:00</td>\n",
       "    </tr>\n",
       "  </tbody>\n",
       "</table>\n",
       "</div>"
      ]
     },
     "execution_count": 65,
     "metadata": {},
     "output_type": "execute_result"
    }
   ],
   "execution_count": 65
  },
  {
   "metadata": {},
   "cell_type": "markdown",
   "source": "# Add number of daylight hours",
   "id": "9610851a5f3e95e0"
  },
  {
   "metadata": {
    "ExecuteTime": {
     "end_time": "2024-09-20T10:14:58.547559Z",
     "start_time": "2024-09-20T10:14:58.540910Z"
    }
   },
   "cell_type": "code",
   "source": [
    "astral_db = database()\n",
    "calgary_info = lookup(\"Calgary\", astral_db)\n",
    "\n",
    "def daylight_hours(row, feature_name='date'):\n",
    "    time_sunrise, time_sunset = daylight(calgary_info.observer, row[feature_name], tzinfo=calgary_info.timezone)\n",
    "    return (time_sunset - time_sunrise).total_seconds() / 3600"
   ],
   "id": "c42abbc7e86b6d3",
   "outputs": [],
   "execution_count": 66
  },
  {
   "metadata": {
    "ExecuteTime": {
     "end_time": "2024-09-20T10:14:58.570089Z",
     "start_time": "2024-09-20T10:14:58.565812Z"
    }
   },
   "cell_type": "code",
   "source": [
    "# # add number of daylight hours to each row\n",
    "# df['daylight_hours'] = df.apply(daylight_hours, axis=1)\n",
    "# df.head()"
   ],
   "id": "ec5cee26fabc7615",
   "outputs": [],
   "execution_count": 67
  },
  {
   "metadata": {},
   "cell_type": "markdown",
   "source": "# Group by day",
   "id": "2c2b479f8ec4c5d1"
  },
  {
   "metadata": {},
   "cell_type": "markdown",
   "source": "",
   "id": "de92791cf513981a"
  },
  {
   "metadata": {
    "ExecuteTime": {
     "end_time": "2024-09-20T10:14:59.518735Z",
     "start_time": "2024-09-20T10:14:58.617565Z"
    }
   },
   "cell_type": "code",
   "source": [
    "df['day_period'] = df['date'].dt.to_period('D')\n",
    "\n",
    "daily = df.groupby(['day_period', 'id'])['kWh'].sum().to_frame().reset_index()\n",
    "daily['date'] = daily['day_period'].dt.to_timestamp()\n",
    "daily.drop(columns=['day_period'], inplace=True)\n",
    "daily['daylight_hours'] = daily.apply(lambda x: daylight_hours(x, 'date'), axis=1)\n",
    "print(daily.shape)\n",
    "daily.head()"
   ],
   "id": "99bd9d15d78a6267",
   "outputs": [
    {
     "name": "stdout",
     "output_type": "stream",
     "text": [
      "(20988, 4)\n"
     ]
    },
    {
     "data": {
      "text/plain": [
       "       id      kWh       date  daylight_hours\n",
       "0  164440  286.013 2015-09-01       13.533085\n",
       "1  164440  681.646 2015-09-02       13.470491\n",
       "2  164440  647.906 2015-09-03       13.407756\n",
       "3  164440  102.448 2015-09-04       13.344890\n",
       "4  164440   93.432 2015-09-05       13.281901"
      ],
      "text/html": [
       "<div>\n",
       "<style scoped>\n",
       "    .dataframe tbody tr th:only-of-type {\n",
       "        vertical-align: middle;\n",
       "    }\n",
       "\n",
       "    .dataframe tbody tr th {\n",
       "        vertical-align: top;\n",
       "    }\n",
       "\n",
       "    .dataframe thead th {\n",
       "        text-align: right;\n",
       "    }\n",
       "</style>\n",
       "<table border=\"1\" class=\"dataframe\">\n",
       "  <thead>\n",
       "    <tr style=\"text-align: right;\">\n",
       "      <th></th>\n",
       "      <th>id</th>\n",
       "      <th>kWh</th>\n",
       "      <th>date</th>\n",
       "      <th>daylight_hours</th>\n",
       "    </tr>\n",
       "  </thead>\n",
       "  <tbody>\n",
       "    <tr>\n",
       "      <th>0</th>\n",
       "      <td>164440</td>\n",
       "      <td>286.013</td>\n",
       "      <td>2015-09-01</td>\n",
       "      <td>13.533085</td>\n",
       "    </tr>\n",
       "    <tr>\n",
       "      <th>1</th>\n",
       "      <td>164440</td>\n",
       "      <td>681.646</td>\n",
       "      <td>2015-09-02</td>\n",
       "      <td>13.470491</td>\n",
       "    </tr>\n",
       "    <tr>\n",
       "      <th>2</th>\n",
       "      <td>164440</td>\n",
       "      <td>647.906</td>\n",
       "      <td>2015-09-03</td>\n",
       "      <td>13.407756</td>\n",
       "    </tr>\n",
       "    <tr>\n",
       "      <th>3</th>\n",
       "      <td>164440</td>\n",
       "      <td>102.448</td>\n",
       "      <td>2015-09-04</td>\n",
       "      <td>13.344890</td>\n",
       "    </tr>\n",
       "    <tr>\n",
       "      <th>4</th>\n",
       "      <td>164440</td>\n",
       "      <td>93.432</td>\n",
       "      <td>2015-09-05</td>\n",
       "      <td>13.281901</td>\n",
       "    </tr>\n",
       "  </tbody>\n",
       "</table>\n",
       "</div>"
      ]
     },
     "execution_count": 68,
     "metadata": {},
     "output_type": "execute_result"
    }
   ],
   "execution_count": 68
  },
  {
   "metadata": {},
   "cell_type": "markdown",
   "source": "# Group by month",
   "id": "55ebf83fb0ca4a0a"
  },
  {
   "metadata": {
    "ExecuteTime": {
     "end_time": "2024-09-20T10:14:59.635075Z",
     "start_time": "2024-09-20T10:14:59.618415Z"
    }
   },
   "cell_type": "code",
   "source": [
    "monthly = daily.groupby([daily['date'].dt.to_period('M'), 'id'])[['kWh', 'daylight_hours']].sum().reset_index()\n",
    "print(monthly.shape)\n",
    "monthly.head()"
   ],
   "id": "4275d3eb1d5d388f",
   "outputs": [
    {
     "name": "stdout",
     "output_type": "stream",
     "text": [
      "(739, 4)\n"
     ]
    },
    {
     "data": {
      "text/plain": [
       "      date      id        kWh  daylight_hours\n",
       "0  2015-09  164440  15475.746      353.669296\n",
       "1  2015-10  164440  15068.149      330.919331\n",
       "2  2015-11  164440   4302.924      267.965801\n",
       "3  2015-12  164440   1722.964      231.892523\n",
       "4  2016-01  164440   3081.863      263.193197"
      ],
      "text/html": [
       "<div>\n",
       "<style scoped>\n",
       "    .dataframe tbody tr th:only-of-type {\n",
       "        vertical-align: middle;\n",
       "    }\n",
       "\n",
       "    .dataframe tbody tr th {\n",
       "        vertical-align: top;\n",
       "    }\n",
       "\n",
       "    .dataframe thead th {\n",
       "        text-align: right;\n",
       "    }\n",
       "</style>\n",
       "<table border=\"1\" class=\"dataframe\">\n",
       "  <thead>\n",
       "    <tr style=\"text-align: right;\">\n",
       "      <th></th>\n",
       "      <th>date</th>\n",
       "      <th>id</th>\n",
       "      <th>kWh</th>\n",
       "      <th>daylight_hours</th>\n",
       "    </tr>\n",
       "  </thead>\n",
       "  <tbody>\n",
       "    <tr>\n",
       "      <th>0</th>\n",
       "      <td>2015-09</td>\n",
       "      <td>164440</td>\n",
       "      <td>15475.746</td>\n",
       "      <td>353.669296</td>\n",
       "    </tr>\n",
       "    <tr>\n",
       "      <th>1</th>\n",
       "      <td>2015-10</td>\n",
       "      <td>164440</td>\n",
       "      <td>15068.149</td>\n",
       "      <td>330.919331</td>\n",
       "    </tr>\n",
       "    <tr>\n",
       "      <th>2</th>\n",
       "      <td>2015-11</td>\n",
       "      <td>164440</td>\n",
       "      <td>4302.924</td>\n",
       "      <td>267.965801</td>\n",
       "    </tr>\n",
       "    <tr>\n",
       "      <th>3</th>\n",
       "      <td>2015-12</td>\n",
       "      <td>164440</td>\n",
       "      <td>1722.964</td>\n",
       "      <td>231.892523</td>\n",
       "    </tr>\n",
       "    <tr>\n",
       "      <th>4</th>\n",
       "      <td>2016-01</td>\n",
       "      <td>164440</td>\n",
       "      <td>3081.863</td>\n",
       "      <td>263.193197</td>\n",
       "    </tr>\n",
       "  </tbody>\n",
       "</table>\n",
       "</div>"
      ]
     },
     "execution_count": 69,
     "metadata": {},
     "output_type": "execute_result"
    }
   ],
   "execution_count": 69
  },
  {
   "metadata": {},
   "cell_type": "markdown",
   "source": "# Save the data",
   "id": "638e351d9c1f6df9"
  },
  {
   "metadata": {
    "ExecuteTime": {
     "end_time": "2024-09-20T10:18:14.783376Z",
     "start_time": "2024-09-20T10:18:12.733564Z"
    }
   },
   "cell_type": "code",
   "source": [
    "daily.to_hdf(destination_data_h5_path, key='daily', mode='w')\n",
    "monthly.to_hdf(destination_data_h5_path, key='monthly', mode='a')"
   ],
   "id": "7c7e86587c52d270",
   "outputs": [
    {
     "ename": "TypeError",
     "evalue": "objects of type ``PeriodArray`` are not supported in this context, sorry; supported objects are: NumPy array, record or scalar; homogeneous list or tuple, integer, float, complex or bytes",
     "output_type": "error",
     "traceback": [
      "\u001B[0;31m---------------------------------------------------------------------------\u001B[0m",
      "\u001B[0;31mTypeError\u001B[0m                                 Traceback (most recent call last)",
      "Cell \u001B[0;32mIn[70], line 2\u001B[0m\n\u001B[1;32m      1\u001B[0m daily\u001B[38;5;241m.\u001B[39mto_hdf(destination_data_h5_path, key\u001B[38;5;241m=\u001B[39m\u001B[38;5;124m'\u001B[39m\u001B[38;5;124mdaily\u001B[39m\u001B[38;5;124m'\u001B[39m, mode\u001B[38;5;241m=\u001B[39m\u001B[38;5;124m'\u001B[39m\u001B[38;5;124mw\u001B[39m\u001B[38;5;124m'\u001B[39m)\n\u001B[0;32m----> 2\u001B[0m \u001B[43mmonthly\u001B[49m\u001B[38;5;241;43m.\u001B[39;49m\u001B[43mto_hdf\u001B[49m\u001B[43m(\u001B[49m\u001B[43mdestination_data_h5_path\u001B[49m\u001B[43m,\u001B[49m\u001B[43m \u001B[49m\u001B[43mkey\u001B[49m\u001B[38;5;241;43m=\u001B[39;49m\u001B[38;5;124;43m'\u001B[39;49m\u001B[38;5;124;43mmonthly\u001B[39;49m\u001B[38;5;124;43m'\u001B[39;49m\u001B[43m,\u001B[49m\u001B[43m \u001B[49m\u001B[43mmode\u001B[49m\u001B[38;5;241;43m=\u001B[39;49m\u001B[38;5;124;43m'\u001B[39;49m\u001B[38;5;124;43ma\u001B[39;49m\u001B[38;5;124;43m'\u001B[39;49m\u001B[43m)\u001B[49m\n",
      "File \u001B[0;32m~/Code/evaluation/.venv/lib/python3.10/site-packages/pandas/util/_decorators.py:333\u001B[0m, in \u001B[0;36mdeprecate_nonkeyword_arguments.<locals>.decorate.<locals>.wrapper\u001B[0;34m(*args, **kwargs)\u001B[0m\n\u001B[1;32m    327\u001B[0m \u001B[38;5;28;01mif\u001B[39;00m \u001B[38;5;28mlen\u001B[39m(args) \u001B[38;5;241m>\u001B[39m num_allow_args:\n\u001B[1;32m    328\u001B[0m     warnings\u001B[38;5;241m.\u001B[39mwarn(\n\u001B[1;32m    329\u001B[0m         msg\u001B[38;5;241m.\u001B[39mformat(arguments\u001B[38;5;241m=\u001B[39m_format_argument_list(allow_args)),\n\u001B[1;32m    330\u001B[0m         \u001B[38;5;167;01mFutureWarning\u001B[39;00m,\n\u001B[1;32m    331\u001B[0m         stacklevel\u001B[38;5;241m=\u001B[39mfind_stack_level(),\n\u001B[1;32m    332\u001B[0m     )\n\u001B[0;32m--> 333\u001B[0m \u001B[38;5;28;01mreturn\u001B[39;00m \u001B[43mfunc\u001B[49m\u001B[43m(\u001B[49m\u001B[38;5;241;43m*\u001B[39;49m\u001B[43margs\u001B[49m\u001B[43m,\u001B[49m\u001B[43m \u001B[49m\u001B[38;5;241;43m*\u001B[39;49m\u001B[38;5;241;43m*\u001B[39;49m\u001B[43mkwargs\u001B[49m\u001B[43m)\u001B[49m\n",
      "File \u001B[0;32m~/Code/evaluation/.venv/lib/python3.10/site-packages/pandas/core/generic.py:2855\u001B[0m, in \u001B[0;36mNDFrame.to_hdf\u001B[0;34m(self, path_or_buf, key, mode, complevel, complib, append, format, index, min_itemsize, nan_rep, dropna, data_columns, errors, encoding)\u001B[0m\n\u001B[1;32m   2851\u001B[0m \u001B[38;5;28;01mfrom\u001B[39;00m \u001B[38;5;21;01mpandas\u001B[39;00m\u001B[38;5;21;01m.\u001B[39;00m\u001B[38;5;21;01mio\u001B[39;00m \u001B[38;5;28;01mimport\u001B[39;00m pytables\n\u001B[1;32m   2853\u001B[0m \u001B[38;5;66;03m# Argument 3 to \"to_hdf\" has incompatible type \"NDFrame\"; expected\u001B[39;00m\n\u001B[1;32m   2854\u001B[0m \u001B[38;5;66;03m# \"Union[DataFrame, Series]\" [arg-type]\u001B[39;00m\n\u001B[0;32m-> 2855\u001B[0m \u001B[43mpytables\u001B[49m\u001B[38;5;241;43m.\u001B[39;49m\u001B[43mto_hdf\u001B[49m\u001B[43m(\u001B[49m\n\u001B[1;32m   2856\u001B[0m \u001B[43m    \u001B[49m\u001B[43mpath_or_buf\u001B[49m\u001B[43m,\u001B[49m\n\u001B[1;32m   2857\u001B[0m \u001B[43m    \u001B[49m\u001B[43mkey\u001B[49m\u001B[43m,\u001B[49m\n\u001B[1;32m   2858\u001B[0m \u001B[43m    \u001B[49m\u001B[38;5;28;43mself\u001B[39;49m\u001B[43m,\u001B[49m\u001B[43m  \u001B[49m\u001B[38;5;66;43;03m# type: ignore[arg-type]\u001B[39;49;00m\n\u001B[1;32m   2859\u001B[0m \u001B[43m    \u001B[49m\u001B[43mmode\u001B[49m\u001B[38;5;241;43m=\u001B[39;49m\u001B[43mmode\u001B[49m\u001B[43m,\u001B[49m\n\u001B[1;32m   2860\u001B[0m \u001B[43m    \u001B[49m\u001B[43mcomplevel\u001B[49m\u001B[38;5;241;43m=\u001B[39;49m\u001B[43mcomplevel\u001B[49m\u001B[43m,\u001B[49m\n\u001B[1;32m   2861\u001B[0m \u001B[43m    \u001B[49m\u001B[43mcomplib\u001B[49m\u001B[38;5;241;43m=\u001B[39;49m\u001B[43mcomplib\u001B[49m\u001B[43m,\u001B[49m\n\u001B[1;32m   2862\u001B[0m \u001B[43m    \u001B[49m\u001B[43mappend\u001B[49m\u001B[38;5;241;43m=\u001B[39;49m\u001B[43mappend\u001B[49m\u001B[43m,\u001B[49m\n\u001B[1;32m   2863\u001B[0m \u001B[43m    \u001B[49m\u001B[38;5;28;43mformat\u001B[39;49m\u001B[38;5;241;43m=\u001B[39;49m\u001B[38;5;28;43mformat\u001B[39;49m\u001B[43m,\u001B[49m\n\u001B[1;32m   2864\u001B[0m \u001B[43m    \u001B[49m\u001B[43mindex\u001B[49m\u001B[38;5;241;43m=\u001B[39;49m\u001B[43mindex\u001B[49m\u001B[43m,\u001B[49m\n\u001B[1;32m   2865\u001B[0m \u001B[43m    \u001B[49m\u001B[43mmin_itemsize\u001B[49m\u001B[38;5;241;43m=\u001B[39;49m\u001B[43mmin_itemsize\u001B[49m\u001B[43m,\u001B[49m\n\u001B[1;32m   2866\u001B[0m \u001B[43m    \u001B[49m\u001B[43mnan_rep\u001B[49m\u001B[38;5;241;43m=\u001B[39;49m\u001B[43mnan_rep\u001B[49m\u001B[43m,\u001B[49m\n\u001B[1;32m   2867\u001B[0m \u001B[43m    \u001B[49m\u001B[43mdropna\u001B[49m\u001B[38;5;241;43m=\u001B[39;49m\u001B[43mdropna\u001B[49m\u001B[43m,\u001B[49m\n\u001B[1;32m   2868\u001B[0m \u001B[43m    \u001B[49m\u001B[43mdata_columns\u001B[49m\u001B[38;5;241;43m=\u001B[39;49m\u001B[43mdata_columns\u001B[49m\u001B[43m,\u001B[49m\n\u001B[1;32m   2869\u001B[0m \u001B[43m    \u001B[49m\u001B[43merrors\u001B[49m\u001B[38;5;241;43m=\u001B[39;49m\u001B[43merrors\u001B[49m\u001B[43m,\u001B[49m\n\u001B[1;32m   2870\u001B[0m \u001B[43m    \u001B[49m\u001B[43mencoding\u001B[49m\u001B[38;5;241;43m=\u001B[39;49m\u001B[43mencoding\u001B[49m\u001B[43m,\u001B[49m\n\u001B[1;32m   2871\u001B[0m \u001B[43m\u001B[49m\u001B[43m)\u001B[49m\n",
      "File \u001B[0;32m~/Code/evaluation/.venv/lib/python3.10/site-packages/pandas/io/pytables.py:311\u001B[0m, in \u001B[0;36mto_hdf\u001B[0;34m(path_or_buf, key, value, mode, complevel, complib, append, format, index, min_itemsize, nan_rep, dropna, data_columns, errors, encoding)\u001B[0m\n\u001B[1;32m    307\u001B[0m \u001B[38;5;28;01mif\u001B[39;00m \u001B[38;5;28misinstance\u001B[39m(path_or_buf, \u001B[38;5;28mstr\u001B[39m):\n\u001B[1;32m    308\u001B[0m     \u001B[38;5;28;01mwith\u001B[39;00m HDFStore(\n\u001B[1;32m    309\u001B[0m         path_or_buf, mode\u001B[38;5;241m=\u001B[39mmode, complevel\u001B[38;5;241m=\u001B[39mcomplevel, complib\u001B[38;5;241m=\u001B[39mcomplib\n\u001B[1;32m    310\u001B[0m     ) \u001B[38;5;28;01mas\u001B[39;00m store:\n\u001B[0;32m--> 311\u001B[0m         \u001B[43mf\u001B[49m\u001B[43m(\u001B[49m\u001B[43mstore\u001B[49m\u001B[43m)\u001B[49m\n\u001B[1;32m    312\u001B[0m \u001B[38;5;28;01melse\u001B[39;00m:\n\u001B[1;32m    313\u001B[0m     f(path_or_buf)\n",
      "File \u001B[0;32m~/Code/evaluation/.venv/lib/python3.10/site-packages/pandas/io/pytables.py:293\u001B[0m, in \u001B[0;36mto_hdf.<locals>.<lambda>\u001B[0;34m(store)\u001B[0m\n\u001B[1;32m    279\u001B[0m     f \u001B[38;5;241m=\u001B[39m \u001B[38;5;28;01mlambda\u001B[39;00m store: store\u001B[38;5;241m.\u001B[39mappend(\n\u001B[1;32m    280\u001B[0m         key,\n\u001B[1;32m    281\u001B[0m         value,\n\u001B[0;32m   (...)\u001B[0m\n\u001B[1;32m    289\u001B[0m         encoding\u001B[38;5;241m=\u001B[39mencoding,\n\u001B[1;32m    290\u001B[0m     )\n\u001B[1;32m    291\u001B[0m \u001B[38;5;28;01melse\u001B[39;00m:\n\u001B[1;32m    292\u001B[0m     \u001B[38;5;66;03m# NB: dropna is not passed to `put`\u001B[39;00m\n\u001B[0;32m--> 293\u001B[0m     f \u001B[38;5;241m=\u001B[39m \u001B[38;5;28;01mlambda\u001B[39;00m store: \u001B[43mstore\u001B[49m\u001B[38;5;241;43m.\u001B[39;49m\u001B[43mput\u001B[49m\u001B[43m(\u001B[49m\n\u001B[1;32m    294\u001B[0m \u001B[43m        \u001B[49m\u001B[43mkey\u001B[49m\u001B[43m,\u001B[49m\n\u001B[1;32m    295\u001B[0m \u001B[43m        \u001B[49m\u001B[43mvalue\u001B[49m\u001B[43m,\u001B[49m\n\u001B[1;32m    296\u001B[0m \u001B[43m        \u001B[49m\u001B[38;5;28;43mformat\u001B[39;49m\u001B[38;5;241;43m=\u001B[39;49m\u001B[38;5;28;43mformat\u001B[39;49m\u001B[43m,\u001B[49m\n\u001B[1;32m    297\u001B[0m \u001B[43m        \u001B[49m\u001B[43mindex\u001B[49m\u001B[38;5;241;43m=\u001B[39;49m\u001B[43mindex\u001B[49m\u001B[43m,\u001B[49m\n\u001B[1;32m    298\u001B[0m \u001B[43m        \u001B[49m\u001B[43mmin_itemsize\u001B[49m\u001B[38;5;241;43m=\u001B[39;49m\u001B[43mmin_itemsize\u001B[49m\u001B[43m,\u001B[49m\n\u001B[1;32m    299\u001B[0m \u001B[43m        \u001B[49m\u001B[43mnan_rep\u001B[49m\u001B[38;5;241;43m=\u001B[39;49m\u001B[43mnan_rep\u001B[49m\u001B[43m,\u001B[49m\n\u001B[1;32m    300\u001B[0m \u001B[43m        \u001B[49m\u001B[43mdata_columns\u001B[49m\u001B[38;5;241;43m=\u001B[39;49m\u001B[43mdata_columns\u001B[49m\u001B[43m,\u001B[49m\n\u001B[1;32m    301\u001B[0m \u001B[43m        \u001B[49m\u001B[43merrors\u001B[49m\u001B[38;5;241;43m=\u001B[39;49m\u001B[43merrors\u001B[49m\u001B[43m,\u001B[49m\n\u001B[1;32m    302\u001B[0m \u001B[43m        \u001B[49m\u001B[43mencoding\u001B[49m\u001B[38;5;241;43m=\u001B[39;49m\u001B[43mencoding\u001B[49m\u001B[43m,\u001B[49m\n\u001B[1;32m    303\u001B[0m \u001B[43m        \u001B[49m\u001B[43mdropna\u001B[49m\u001B[38;5;241;43m=\u001B[39;49m\u001B[43mdropna\u001B[49m\u001B[43m,\u001B[49m\n\u001B[1;32m    304\u001B[0m \u001B[43m    \u001B[49m\u001B[43m)\u001B[49m\n\u001B[1;32m    306\u001B[0m path_or_buf \u001B[38;5;241m=\u001B[39m stringify_path(path_or_buf)\n\u001B[1;32m    307\u001B[0m \u001B[38;5;28;01mif\u001B[39;00m \u001B[38;5;28misinstance\u001B[39m(path_or_buf, \u001B[38;5;28mstr\u001B[39m):\n",
      "File \u001B[0;32m~/Code/evaluation/.venv/lib/python3.10/site-packages/pandas/io/pytables.py:1160\u001B[0m, in \u001B[0;36mHDFStore.put\u001B[0;34m(self, key, value, format, index, append, complib, complevel, min_itemsize, nan_rep, data_columns, encoding, errors, track_times, dropna)\u001B[0m\n\u001B[1;32m   1158\u001B[0m     \u001B[38;5;28mformat\u001B[39m \u001B[38;5;241m=\u001B[39m get_option(\u001B[38;5;124m\"\u001B[39m\u001B[38;5;124mio.hdf.default_format\u001B[39m\u001B[38;5;124m\"\u001B[39m) \u001B[38;5;129;01mor\u001B[39;00m \u001B[38;5;124m\"\u001B[39m\u001B[38;5;124mfixed\u001B[39m\u001B[38;5;124m\"\u001B[39m\n\u001B[1;32m   1159\u001B[0m \u001B[38;5;28mformat\u001B[39m \u001B[38;5;241m=\u001B[39m \u001B[38;5;28mself\u001B[39m\u001B[38;5;241m.\u001B[39m_validate_format(\u001B[38;5;28mformat\u001B[39m)\n\u001B[0;32m-> 1160\u001B[0m \u001B[38;5;28;43mself\u001B[39;49m\u001B[38;5;241;43m.\u001B[39;49m\u001B[43m_write_to_group\u001B[49m\u001B[43m(\u001B[49m\n\u001B[1;32m   1161\u001B[0m \u001B[43m    \u001B[49m\u001B[43mkey\u001B[49m\u001B[43m,\u001B[49m\n\u001B[1;32m   1162\u001B[0m \u001B[43m    \u001B[49m\u001B[43mvalue\u001B[49m\u001B[43m,\u001B[49m\n\u001B[1;32m   1163\u001B[0m \u001B[43m    \u001B[49m\u001B[38;5;28;43mformat\u001B[39;49m\u001B[38;5;241;43m=\u001B[39;49m\u001B[38;5;28;43mformat\u001B[39;49m\u001B[43m,\u001B[49m\n\u001B[1;32m   1164\u001B[0m \u001B[43m    \u001B[49m\u001B[43mindex\u001B[49m\u001B[38;5;241;43m=\u001B[39;49m\u001B[43mindex\u001B[49m\u001B[43m,\u001B[49m\n\u001B[1;32m   1165\u001B[0m \u001B[43m    \u001B[49m\u001B[43mappend\u001B[49m\u001B[38;5;241;43m=\u001B[39;49m\u001B[43mappend\u001B[49m\u001B[43m,\u001B[49m\n\u001B[1;32m   1166\u001B[0m \u001B[43m    \u001B[49m\u001B[43mcomplib\u001B[49m\u001B[38;5;241;43m=\u001B[39;49m\u001B[43mcomplib\u001B[49m\u001B[43m,\u001B[49m\n\u001B[1;32m   1167\u001B[0m \u001B[43m    \u001B[49m\u001B[43mcomplevel\u001B[49m\u001B[38;5;241;43m=\u001B[39;49m\u001B[43mcomplevel\u001B[49m\u001B[43m,\u001B[49m\n\u001B[1;32m   1168\u001B[0m \u001B[43m    \u001B[49m\u001B[43mmin_itemsize\u001B[49m\u001B[38;5;241;43m=\u001B[39;49m\u001B[43mmin_itemsize\u001B[49m\u001B[43m,\u001B[49m\n\u001B[1;32m   1169\u001B[0m \u001B[43m    \u001B[49m\u001B[43mnan_rep\u001B[49m\u001B[38;5;241;43m=\u001B[39;49m\u001B[43mnan_rep\u001B[49m\u001B[43m,\u001B[49m\n\u001B[1;32m   1170\u001B[0m \u001B[43m    \u001B[49m\u001B[43mdata_columns\u001B[49m\u001B[38;5;241;43m=\u001B[39;49m\u001B[43mdata_columns\u001B[49m\u001B[43m,\u001B[49m\n\u001B[1;32m   1171\u001B[0m \u001B[43m    \u001B[49m\u001B[43mencoding\u001B[49m\u001B[38;5;241;43m=\u001B[39;49m\u001B[43mencoding\u001B[49m\u001B[43m,\u001B[49m\n\u001B[1;32m   1172\u001B[0m \u001B[43m    \u001B[49m\u001B[43merrors\u001B[49m\u001B[38;5;241;43m=\u001B[39;49m\u001B[43merrors\u001B[49m\u001B[43m,\u001B[49m\n\u001B[1;32m   1173\u001B[0m \u001B[43m    \u001B[49m\u001B[43mtrack_times\u001B[49m\u001B[38;5;241;43m=\u001B[39;49m\u001B[43mtrack_times\u001B[49m\u001B[43m,\u001B[49m\n\u001B[1;32m   1174\u001B[0m \u001B[43m    \u001B[49m\u001B[43mdropna\u001B[49m\u001B[38;5;241;43m=\u001B[39;49m\u001B[43mdropna\u001B[49m\u001B[43m,\u001B[49m\n\u001B[1;32m   1175\u001B[0m \u001B[43m\u001B[49m\u001B[43m)\u001B[49m\n",
      "File \u001B[0;32m~/Code/evaluation/.venv/lib/python3.10/site-packages/pandas/io/pytables.py:1858\u001B[0m, in \u001B[0;36mHDFStore._write_to_group\u001B[0;34m(self, key, value, format, axes, index, append, complib, complevel, fletcher32, min_itemsize, chunksize, expectedrows, dropna, nan_rep, data_columns, encoding, errors, track_times)\u001B[0m\n\u001B[1;32m   1855\u001B[0m     \u001B[38;5;28;01mraise\u001B[39;00m \u001B[38;5;167;01mValueError\u001B[39;00m(\u001B[38;5;124m\"\u001B[39m\u001B[38;5;124mCompression not supported on Fixed format stores\u001B[39m\u001B[38;5;124m\"\u001B[39m)\n\u001B[1;32m   1857\u001B[0m \u001B[38;5;66;03m# write the object\u001B[39;00m\n\u001B[0;32m-> 1858\u001B[0m \u001B[43ms\u001B[49m\u001B[38;5;241;43m.\u001B[39;49m\u001B[43mwrite\u001B[49m\u001B[43m(\u001B[49m\n\u001B[1;32m   1859\u001B[0m \u001B[43m    \u001B[49m\u001B[43mobj\u001B[49m\u001B[38;5;241;43m=\u001B[39;49m\u001B[43mvalue\u001B[49m\u001B[43m,\u001B[49m\n\u001B[1;32m   1860\u001B[0m \u001B[43m    \u001B[49m\u001B[43maxes\u001B[49m\u001B[38;5;241;43m=\u001B[39;49m\u001B[43maxes\u001B[49m\u001B[43m,\u001B[49m\n\u001B[1;32m   1861\u001B[0m \u001B[43m    \u001B[49m\u001B[43mappend\u001B[49m\u001B[38;5;241;43m=\u001B[39;49m\u001B[43mappend\u001B[49m\u001B[43m,\u001B[49m\n\u001B[1;32m   1862\u001B[0m \u001B[43m    \u001B[49m\u001B[43mcomplib\u001B[49m\u001B[38;5;241;43m=\u001B[39;49m\u001B[43mcomplib\u001B[49m\u001B[43m,\u001B[49m\n\u001B[1;32m   1863\u001B[0m \u001B[43m    \u001B[49m\u001B[43mcomplevel\u001B[49m\u001B[38;5;241;43m=\u001B[39;49m\u001B[43mcomplevel\u001B[49m\u001B[43m,\u001B[49m\n\u001B[1;32m   1864\u001B[0m \u001B[43m    \u001B[49m\u001B[43mfletcher32\u001B[49m\u001B[38;5;241;43m=\u001B[39;49m\u001B[43mfletcher32\u001B[49m\u001B[43m,\u001B[49m\n\u001B[1;32m   1865\u001B[0m \u001B[43m    \u001B[49m\u001B[43mmin_itemsize\u001B[49m\u001B[38;5;241;43m=\u001B[39;49m\u001B[43mmin_itemsize\u001B[49m\u001B[43m,\u001B[49m\n\u001B[1;32m   1866\u001B[0m \u001B[43m    \u001B[49m\u001B[43mchunksize\u001B[49m\u001B[38;5;241;43m=\u001B[39;49m\u001B[43mchunksize\u001B[49m\u001B[43m,\u001B[49m\n\u001B[1;32m   1867\u001B[0m \u001B[43m    \u001B[49m\u001B[43mexpectedrows\u001B[49m\u001B[38;5;241;43m=\u001B[39;49m\u001B[43mexpectedrows\u001B[49m\u001B[43m,\u001B[49m\n\u001B[1;32m   1868\u001B[0m \u001B[43m    \u001B[49m\u001B[43mdropna\u001B[49m\u001B[38;5;241;43m=\u001B[39;49m\u001B[43mdropna\u001B[49m\u001B[43m,\u001B[49m\n\u001B[1;32m   1869\u001B[0m \u001B[43m    \u001B[49m\u001B[43mnan_rep\u001B[49m\u001B[38;5;241;43m=\u001B[39;49m\u001B[43mnan_rep\u001B[49m\u001B[43m,\u001B[49m\n\u001B[1;32m   1870\u001B[0m \u001B[43m    \u001B[49m\u001B[43mdata_columns\u001B[49m\u001B[38;5;241;43m=\u001B[39;49m\u001B[43mdata_columns\u001B[49m\u001B[43m,\u001B[49m\n\u001B[1;32m   1871\u001B[0m \u001B[43m    \u001B[49m\u001B[43mtrack_times\u001B[49m\u001B[38;5;241;43m=\u001B[39;49m\u001B[43mtrack_times\u001B[49m\u001B[43m,\u001B[49m\n\u001B[1;32m   1872\u001B[0m \u001B[43m\u001B[49m\u001B[43m)\u001B[49m\n\u001B[1;32m   1874\u001B[0m \u001B[38;5;28;01mif\u001B[39;00m \u001B[38;5;28misinstance\u001B[39m(s, Table) \u001B[38;5;129;01mand\u001B[39;00m index:\n\u001B[1;32m   1875\u001B[0m     s\u001B[38;5;241m.\u001B[39mcreate_index(columns\u001B[38;5;241m=\u001B[39mindex)\n",
      "File \u001B[0;32m~/Code/evaluation/.venv/lib/python3.10/site-packages/pandas/io/pytables.py:3333\u001B[0m, in \u001B[0;36mBlockManagerFixed.write\u001B[0;34m(self, obj, **kwargs)\u001B[0m\n\u001B[1;32m   3330\u001B[0m \u001B[38;5;28;01mfor\u001B[39;00m i, blk \u001B[38;5;129;01min\u001B[39;00m \u001B[38;5;28menumerate\u001B[39m(data\u001B[38;5;241m.\u001B[39mblocks):\n\u001B[1;32m   3331\u001B[0m     \u001B[38;5;66;03m# I have no idea why, but writing values before items fixed #2299\u001B[39;00m\n\u001B[1;32m   3332\u001B[0m     blk_items \u001B[38;5;241m=\u001B[39m data\u001B[38;5;241m.\u001B[39mitems\u001B[38;5;241m.\u001B[39mtake(blk\u001B[38;5;241m.\u001B[39mmgr_locs)\n\u001B[0;32m-> 3333\u001B[0m     \u001B[38;5;28;43mself\u001B[39;49m\u001B[38;5;241;43m.\u001B[39;49m\u001B[43mwrite_array\u001B[49m\u001B[43m(\u001B[49m\u001B[38;5;124;43mf\u001B[39;49m\u001B[38;5;124;43m\"\u001B[39;49m\u001B[38;5;124;43mblock\u001B[39;49m\u001B[38;5;132;43;01m{\u001B[39;49;00m\u001B[43mi\u001B[49m\u001B[38;5;132;43;01m}\u001B[39;49;00m\u001B[38;5;124;43m_values\u001B[39;49m\u001B[38;5;124;43m\"\u001B[39;49m\u001B[43m,\u001B[49m\u001B[43m \u001B[49m\u001B[43mblk\u001B[49m\u001B[38;5;241;43m.\u001B[39;49m\u001B[43mvalues\u001B[49m\u001B[43m,\u001B[49m\u001B[43m \u001B[49m\u001B[43mitems\u001B[49m\u001B[38;5;241;43m=\u001B[39;49m\u001B[43mblk_items\u001B[49m\u001B[43m)\u001B[49m\n\u001B[1;32m   3334\u001B[0m     \u001B[38;5;28mself\u001B[39m\u001B[38;5;241m.\u001B[39mwrite_index(\u001B[38;5;124mf\u001B[39m\u001B[38;5;124m\"\u001B[39m\u001B[38;5;124mblock\u001B[39m\u001B[38;5;132;01m{\u001B[39;00mi\u001B[38;5;132;01m}\u001B[39;00m\u001B[38;5;124m_items\u001B[39m\u001B[38;5;124m\"\u001B[39m, blk_items)\n",
      "File \u001B[0;32m~/Code/evaluation/.venv/lib/python3.10/site-packages/pandas/io/pytables.py:3198\u001B[0m, in \u001B[0;36mGenericFixed.write_array\u001B[0;34m(self, key, obj, items)\u001B[0m\n\u001B[1;32m   3196\u001B[0m     \u001B[38;5;28mself\u001B[39m\u001B[38;5;241m.\u001B[39mwrite_array_empty(key, value)\n\u001B[1;32m   3197\u001B[0m \u001B[38;5;28;01melse\u001B[39;00m:\n\u001B[0;32m-> 3198\u001B[0m     \u001B[38;5;28;43mself\u001B[39;49m\u001B[38;5;241;43m.\u001B[39;49m\u001B[43m_handle\u001B[49m\u001B[38;5;241;43m.\u001B[39;49m\u001B[43mcreate_array\u001B[49m\u001B[43m(\u001B[49m\u001B[38;5;28;43mself\u001B[39;49m\u001B[38;5;241;43m.\u001B[39;49m\u001B[43mgroup\u001B[49m\u001B[43m,\u001B[49m\u001B[43m \u001B[49m\u001B[43mkey\u001B[49m\u001B[43m,\u001B[49m\u001B[43m \u001B[49m\u001B[43mvalue\u001B[49m\u001B[43m)\u001B[49m\n\u001B[1;32m   3200\u001B[0m \u001B[38;5;28mgetattr\u001B[39m(\u001B[38;5;28mself\u001B[39m\u001B[38;5;241m.\u001B[39mgroup, key)\u001B[38;5;241m.\u001B[39m_v_attrs\u001B[38;5;241m.\u001B[39mtransposed \u001B[38;5;241m=\u001B[39m transposed\n",
      "File \u001B[0;32m~/Code/evaluation/.venv/lib/python3.10/site-packages/tables/file.py:1105\u001B[0m, in \u001B[0;36mFile.create_array\u001B[0;34m(self, where, name, obj, title, byteorder, createparents, atom, shape, track_times)\u001B[0m\n\u001B[1;32m   1102\u001B[0m         obj \u001B[38;5;241m=\u001B[39m np\u001B[38;5;241m.\u001B[39mndarray(shape, dtype\u001B[38;5;241m=\u001B[39matom\u001B[38;5;241m.\u001B[39mdtype, buffer\u001B[38;5;241m=\u001B[39mdflt,\n\u001B[1;32m   1103\u001B[0m                          strides\u001B[38;5;241m=\u001B[39m(\u001B[38;5;241m0\u001B[39m,)\u001B[38;5;241m*\u001B[39m\u001B[38;5;28mlen\u001B[39m(shape))\n\u001B[1;32m   1104\u001B[0m \u001B[38;5;28;01melse\u001B[39;00m:\n\u001B[0;32m-> 1105\u001B[0m     flavor \u001B[38;5;241m=\u001B[39m \u001B[43mflavor_of\u001B[49m\u001B[43m(\u001B[49m\u001B[43mobj\u001B[49m\u001B[43m)\u001B[49m\n\u001B[1;32m   1106\u001B[0m     \u001B[38;5;66;03m# use a temporary object because converting obj at this stage\u001B[39;00m\n\u001B[1;32m   1107\u001B[0m     \u001B[38;5;66;03m# breaks some test. This is solution performs a double,\u001B[39;00m\n\u001B[1;32m   1108\u001B[0m     \u001B[38;5;66;03m# potentially expensive, conversion of the obj parameter.\u001B[39;00m\n\u001B[1;32m   1109\u001B[0m     _obj \u001B[38;5;241m=\u001B[39m array_as_internal(obj, flavor)\n",
      "File \u001B[0;32m~/Code/evaluation/.venv/lib/python3.10/site-packages/tables/flavor.py:178\u001B[0m, in \u001B[0;36mflavor_of\u001B[0;34m(array)\u001B[0m\n\u001B[1;32m    176\u001B[0m type_name \u001B[38;5;241m=\u001B[39m \u001B[38;5;28mtype\u001B[39m(array)\u001B[38;5;241m.\u001B[39m\u001B[38;5;18m__name__\u001B[39m\n\u001B[1;32m    177\u001B[0m supported_descs \u001B[38;5;241m=\u001B[39m \u001B[38;5;124m\"\u001B[39m\u001B[38;5;124m; \u001B[39m\u001B[38;5;124m\"\u001B[39m\u001B[38;5;241m.\u001B[39mjoin(description_map[fl] \u001B[38;5;28;01mfor\u001B[39;00m fl \u001B[38;5;129;01min\u001B[39;00m all_flavors)\n\u001B[0;32m--> 178\u001B[0m \u001B[38;5;28;01mraise\u001B[39;00m \u001B[38;5;167;01mTypeError\u001B[39;00m(\n\u001B[1;32m    179\u001B[0m     \u001B[38;5;124m\"\u001B[39m\u001B[38;5;124mobjects of type ``\u001B[39m\u001B[38;5;132;01m%s\u001B[39;00m\u001B[38;5;124m`` are not supported in this context, sorry; \u001B[39m\u001B[38;5;124m\"\u001B[39m\n\u001B[1;32m    180\u001B[0m     \u001B[38;5;124m\"\u001B[39m\u001B[38;5;124msupported objects are: \u001B[39m\u001B[38;5;132;01m%s\u001B[39;00m\u001B[38;5;124m\"\u001B[39m \u001B[38;5;241m%\u001B[39m (type_name, supported_descs))\n",
      "\u001B[0;31mTypeError\u001B[0m: objects of type ``PeriodArray`` are not supported in this context, sorry; supported objects are: NumPy array, record or scalar; homogeneous list or tuple, integer, float, complex or bytes"
     ]
    }
   ],
   "execution_count": 70
  },
  {
   "metadata": {},
   "cell_type": "markdown",
   "source": "# Plot the data",
   "id": "2b2d8b6a9e40eceb"
  },
  {
   "metadata": {
    "ExecuteTime": {
     "end_time": "2024-09-20T10:19:30.058693Z",
     "start_time": "2024-09-20T10:19:28.732937Z"
    }
   },
   "cell_type": "code",
   "source": [
    "plt.figure(figsize=(10,6))\n",
    "plt.plot(daily[['kWh']], label=['kWh'])\n",
    "plt.plot(daily[['kWh']]/daily[['daylight_hours']], label=['kWh normalized'])\n",
    "plt.title('Daily')\n",
    "plt.xlabel('Date')\n",
    "plt.ylabel('kWh')\n",
    "plt.legend()\n",
    "plt.show()"
   ],
   "id": "1a30b33fd8f15523",
   "outputs": [
    {
     "ename": "ValueError",
     "evalue": "label must be scalar or have the same length as the input data, but found 1 for 2 datasets.",
     "output_type": "error",
     "traceback": [
      "\u001B[0;31m---------------------------------------------------------------------------\u001B[0m",
      "\u001B[0;31mValueError\u001B[0m                                Traceback (most recent call last)",
      "Cell \u001B[0;32mIn[72], line 3\u001B[0m\n\u001B[1;32m      1\u001B[0m plt\u001B[38;5;241m.\u001B[39mfigure(figsize\u001B[38;5;241m=\u001B[39m(\u001B[38;5;241m10\u001B[39m,\u001B[38;5;241m6\u001B[39m))\n\u001B[1;32m      2\u001B[0m plt\u001B[38;5;241m.\u001B[39mplot(daily[[\u001B[38;5;124m'\u001B[39m\u001B[38;5;124mkWh\u001B[39m\u001B[38;5;124m'\u001B[39m]], label\u001B[38;5;241m=\u001B[39m[\u001B[38;5;124m'\u001B[39m\u001B[38;5;124mkWh\u001B[39m\u001B[38;5;124m'\u001B[39m])\n\u001B[0;32m----> 3\u001B[0m \u001B[43mplt\u001B[49m\u001B[38;5;241;43m.\u001B[39;49m\u001B[43mplot\u001B[49m\u001B[43m(\u001B[49m\u001B[43mdaily\u001B[49m\u001B[43m[\u001B[49m\u001B[43m[\u001B[49m\u001B[38;5;124;43m'\u001B[39;49m\u001B[38;5;124;43mkWh\u001B[39;49m\u001B[38;5;124;43m'\u001B[39;49m\u001B[43m]\u001B[49m\u001B[43m]\u001B[49m\u001B[38;5;241;43m/\u001B[39;49m\u001B[43mdaily\u001B[49m\u001B[43m[\u001B[49m\u001B[43m[\u001B[49m\u001B[38;5;124;43m'\u001B[39;49m\u001B[38;5;124;43mdaylight_hours\u001B[39;49m\u001B[38;5;124;43m'\u001B[39;49m\u001B[43m]\u001B[49m\u001B[43m]\u001B[49m\u001B[43m,\u001B[49m\u001B[43m \u001B[49m\u001B[43mlabel\u001B[49m\u001B[38;5;241;43m=\u001B[39;49m\u001B[43m[\u001B[49m\u001B[38;5;124;43m'\u001B[39;49m\u001B[38;5;124;43mkWh normalized\u001B[39;49m\u001B[38;5;124;43m'\u001B[39;49m\u001B[43m]\u001B[49m\u001B[43m)\u001B[49m\n\u001B[1;32m      4\u001B[0m plt\u001B[38;5;241m.\u001B[39mtitle(\u001B[38;5;124m'\u001B[39m\u001B[38;5;124mDaily\u001B[39m\u001B[38;5;124m'\u001B[39m)\n\u001B[1;32m      5\u001B[0m plt\u001B[38;5;241m.\u001B[39mxlabel(\u001B[38;5;124m'\u001B[39m\u001B[38;5;124mDate\u001B[39m\u001B[38;5;124m'\u001B[39m)\n",
      "File \u001B[0;32m~/Code/evaluation/.venv/lib/python3.10/site-packages/matplotlib/pyplot.py:3590\u001B[0m, in \u001B[0;36mplot\u001B[0;34m(scalex, scaley, data, *args, **kwargs)\u001B[0m\n\u001B[1;32m   3582\u001B[0m \u001B[38;5;129m@_copy_docstring_and_deprecators\u001B[39m(Axes\u001B[38;5;241m.\u001B[39mplot)\n\u001B[1;32m   3583\u001B[0m \u001B[38;5;28;01mdef\u001B[39;00m \u001B[38;5;21mplot\u001B[39m(\n\u001B[1;32m   3584\u001B[0m     \u001B[38;5;241m*\u001B[39margs: \u001B[38;5;28mfloat\u001B[39m \u001B[38;5;241m|\u001B[39m ArrayLike \u001B[38;5;241m|\u001B[39m \u001B[38;5;28mstr\u001B[39m,\n\u001B[0;32m   (...)\u001B[0m\n\u001B[1;32m   3588\u001B[0m     \u001B[38;5;241m*\u001B[39m\u001B[38;5;241m*\u001B[39mkwargs,\n\u001B[1;32m   3589\u001B[0m ) \u001B[38;5;241m-\u001B[39m\u001B[38;5;241m>\u001B[39m \u001B[38;5;28mlist\u001B[39m[Line2D]:\n\u001B[0;32m-> 3590\u001B[0m     \u001B[38;5;28;01mreturn\u001B[39;00m \u001B[43mgca\u001B[49m\u001B[43m(\u001B[49m\u001B[43m)\u001B[49m\u001B[38;5;241;43m.\u001B[39;49m\u001B[43mplot\u001B[49m\u001B[43m(\u001B[49m\n\u001B[1;32m   3591\u001B[0m \u001B[43m        \u001B[49m\u001B[38;5;241;43m*\u001B[39;49m\u001B[43margs\u001B[49m\u001B[43m,\u001B[49m\n\u001B[1;32m   3592\u001B[0m \u001B[43m        \u001B[49m\u001B[43mscalex\u001B[49m\u001B[38;5;241;43m=\u001B[39;49m\u001B[43mscalex\u001B[49m\u001B[43m,\u001B[49m\n\u001B[1;32m   3593\u001B[0m \u001B[43m        \u001B[49m\u001B[43mscaley\u001B[49m\u001B[38;5;241;43m=\u001B[39;49m\u001B[43mscaley\u001B[49m\u001B[43m,\u001B[49m\n\u001B[1;32m   3594\u001B[0m \u001B[43m        \u001B[49m\u001B[38;5;241;43m*\u001B[39;49m\u001B[38;5;241;43m*\u001B[39;49m\u001B[43m(\u001B[49m\u001B[43m{\u001B[49m\u001B[38;5;124;43m\"\u001B[39;49m\u001B[38;5;124;43mdata\u001B[39;49m\u001B[38;5;124;43m\"\u001B[39;49m\u001B[43m:\u001B[49m\u001B[43m \u001B[49m\u001B[43mdata\u001B[49m\u001B[43m}\u001B[49m\u001B[43m \u001B[49m\u001B[38;5;28;43;01mif\u001B[39;49;00m\u001B[43m \u001B[49m\u001B[43mdata\u001B[49m\u001B[43m \u001B[49m\u001B[38;5;129;43;01mis\u001B[39;49;00m\u001B[43m \u001B[49m\u001B[38;5;129;43;01mnot\u001B[39;49;00m\u001B[43m \u001B[49m\u001B[38;5;28;43;01mNone\u001B[39;49;00m\u001B[43m \u001B[49m\u001B[38;5;28;43;01melse\u001B[39;49;00m\u001B[43m \u001B[49m\u001B[43m{\u001B[49m\u001B[43m}\u001B[49m\u001B[43m)\u001B[49m\u001B[43m,\u001B[49m\n\u001B[1;32m   3595\u001B[0m \u001B[43m        \u001B[49m\u001B[38;5;241;43m*\u001B[39;49m\u001B[38;5;241;43m*\u001B[39;49m\u001B[43mkwargs\u001B[49m\u001B[43m,\u001B[49m\n\u001B[1;32m   3596\u001B[0m \u001B[43m    \u001B[49m\u001B[43m)\u001B[49m\n",
      "File \u001B[0;32m~/Code/evaluation/.venv/lib/python3.10/site-packages/matplotlib/axes/_axes.py:1724\u001B[0m, in \u001B[0;36mAxes.plot\u001B[0;34m(self, scalex, scaley, data, *args, **kwargs)\u001B[0m\n\u001B[1;32m   1481\u001B[0m \u001B[38;5;250m\u001B[39m\u001B[38;5;124;03m\"\"\"\u001B[39;00m\n\u001B[1;32m   1482\u001B[0m \u001B[38;5;124;03mPlot y versus x as lines and/or markers.\u001B[39;00m\n\u001B[1;32m   1483\u001B[0m \n\u001B[0;32m   (...)\u001B[0m\n\u001B[1;32m   1721\u001B[0m \u001B[38;5;124;03m(``'green'``) or hex strings (``'#008000'``).\u001B[39;00m\n\u001B[1;32m   1722\u001B[0m \u001B[38;5;124;03m\"\"\"\u001B[39;00m\n\u001B[1;32m   1723\u001B[0m kwargs \u001B[38;5;241m=\u001B[39m cbook\u001B[38;5;241m.\u001B[39mnormalize_kwargs(kwargs, mlines\u001B[38;5;241m.\u001B[39mLine2D)\n\u001B[0;32m-> 1724\u001B[0m lines \u001B[38;5;241m=\u001B[39m [\u001B[38;5;241m*\u001B[39m\u001B[38;5;28mself\u001B[39m\u001B[38;5;241m.\u001B[39m_get_lines(\u001B[38;5;28mself\u001B[39m, \u001B[38;5;241m*\u001B[39margs, data\u001B[38;5;241m=\u001B[39mdata, \u001B[38;5;241m*\u001B[39m\u001B[38;5;241m*\u001B[39mkwargs)]\n\u001B[1;32m   1725\u001B[0m \u001B[38;5;28;01mfor\u001B[39;00m line \u001B[38;5;129;01min\u001B[39;00m lines:\n\u001B[1;32m   1726\u001B[0m     \u001B[38;5;28mself\u001B[39m\u001B[38;5;241m.\u001B[39madd_line(line)\n",
      "File \u001B[0;32m~/Code/evaluation/.venv/lib/python3.10/site-packages/matplotlib/axes/_base.py:303\u001B[0m, in \u001B[0;36m_process_plot_var_args.__call__\u001B[0;34m(self, axes, data, *args, **kwargs)\u001B[0m\n\u001B[1;32m    301\u001B[0m     this \u001B[38;5;241m+\u001B[39m\u001B[38;5;241m=\u001B[39m args[\u001B[38;5;241m0\u001B[39m],\n\u001B[1;32m    302\u001B[0m     args \u001B[38;5;241m=\u001B[39m args[\u001B[38;5;241m1\u001B[39m:]\n\u001B[0;32m--> 303\u001B[0m \u001B[38;5;28;01myield from\u001B[39;00m \u001B[38;5;28;43mself\u001B[39;49m\u001B[38;5;241;43m.\u001B[39;49m\u001B[43m_plot_args\u001B[49m\u001B[43m(\u001B[49m\n\u001B[1;32m    304\u001B[0m \u001B[43m    \u001B[49m\u001B[43maxes\u001B[49m\u001B[43m,\u001B[49m\u001B[43m \u001B[49m\u001B[43mthis\u001B[49m\u001B[43m,\u001B[49m\u001B[43m \u001B[49m\u001B[43mkwargs\u001B[49m\u001B[43m,\u001B[49m\u001B[43m \u001B[49m\u001B[43mambiguous_fmt_datakey\u001B[49m\u001B[38;5;241;43m=\u001B[39;49m\u001B[43mambiguous_fmt_datakey\u001B[49m\u001B[43m)\u001B[49m\n",
      "File \u001B[0;32m~/Code/evaluation/.venv/lib/python3.10/site-packages/matplotlib/axes/_base.py:525\u001B[0m, in \u001B[0;36m_process_plot_var_args._plot_args\u001B[0;34m(self, axes, tup, kwargs, return_kwargs, ambiguous_fmt_datakey)\u001B[0m\n\u001B[1;32m    523\u001B[0m \u001B[38;5;28;01mif\u001B[39;00m n_datasets \u001B[38;5;241m>\u001B[39m \u001B[38;5;241m1\u001B[39m \u001B[38;5;129;01mand\u001B[39;00m \u001B[38;5;129;01mnot\u001B[39;00m cbook\u001B[38;5;241m.\u001B[39mis_scalar_or_string(label):\n\u001B[1;32m    524\u001B[0m     \u001B[38;5;28;01mif\u001B[39;00m \u001B[38;5;28mlen\u001B[39m(label) \u001B[38;5;241m!=\u001B[39m n_datasets:\n\u001B[0;32m--> 525\u001B[0m         \u001B[38;5;28;01mraise\u001B[39;00m \u001B[38;5;167;01mValueError\u001B[39;00m(\u001B[38;5;124mf\u001B[39m\u001B[38;5;124m\"\u001B[39m\u001B[38;5;124mlabel must be scalar or have the same \u001B[39m\u001B[38;5;124m\"\u001B[39m\n\u001B[1;32m    526\u001B[0m                          \u001B[38;5;124mf\u001B[39m\u001B[38;5;124m\"\u001B[39m\u001B[38;5;124mlength as the input data, but found \u001B[39m\u001B[38;5;124m\"\u001B[39m\n\u001B[1;32m    527\u001B[0m                          \u001B[38;5;124mf\u001B[39m\u001B[38;5;124m\"\u001B[39m\u001B[38;5;132;01m{\u001B[39;00m\u001B[38;5;28mlen\u001B[39m(label)\u001B[38;5;132;01m}\u001B[39;00m\u001B[38;5;124m for \u001B[39m\u001B[38;5;132;01m{\u001B[39;00mn_datasets\u001B[38;5;132;01m}\u001B[39;00m\u001B[38;5;124m datasets.\u001B[39m\u001B[38;5;124m\"\u001B[39m)\n\u001B[1;32m    528\u001B[0m     labels \u001B[38;5;241m=\u001B[39m label\n\u001B[1;32m    529\u001B[0m \u001B[38;5;28;01melse\u001B[39;00m:\n",
      "\u001B[0;31mValueError\u001B[0m: label must be scalar or have the same length as the input data, but found 1 for 2 datasets."
     ]
    },
    {
     "data": {
      "text/plain": [
       "<Figure size 1000x600 with 1 Axes>"
      ],
      "image/png": "[encoded data removed]"
     },
     "metadata": {},
     "output_type": "display_data"
    }
   ],
   "execution_count": 72
  }
 ],
 "metadata": {
  "kernelspec": {
   "display_name": "Python 3",
   "language": "python",
   "name": "python3"
  },
  "language_info": {
   "codemirror_mode": {
    "name": "ipython",
    "version": 2
   },
   "file_extension": ".py",
   "mimetype": "text/x-python",
   "name": "python",
   "nbconvert_exporter": "python",
   "pygments_lexer": "ipython2",
   "version": "2.7.6"
  }
 },
 "nbformat": 4,
 "nbformat_minor": 5
}
