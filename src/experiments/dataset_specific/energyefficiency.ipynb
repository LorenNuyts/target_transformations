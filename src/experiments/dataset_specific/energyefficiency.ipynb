{
 "cells": [
  {
   "metadata": {
    "ExecuteTime": {
     "end_time": "2024-06-10T13:23:46.699701Z",
     "start_time": "2024-06-10T13:23:46.690183Z"
    }
   },
   "cell_type": "code",
   "source": "%env DATA_DIR=/home/loren/Code/evaluation/data/datasets",
   "id": "37e2c74dd946b592",
   "outputs": [
    {
     "name": "stdout",
     "output_type": "stream",
     "text": [
      "env: DATA_DIR=/home/loren/Code/evaluation/data/datasets\n"
     ]
    }
   ],
   "execution_count": 1
  },
  {
   "cell_type": "code",
   "id": "initial_id",
   "metadata": {
    "collapsed": true,
    "ExecuteTime": {
     "end_time": "2024-06-10T13:23:47.745160Z",
     "start_time": "2024-06-10T13:23:46.701228Z"
    }
   },
   "source": [
    "from src.experiments.data import EnergyEfficiency1, EnergyEfficiency2\n",
    "from ucimlrepo import fetch_ucirepo\n"
   ],
   "outputs": [],
   "execution_count": 2
  },
  {
   "metadata": {},
   "cell_type": "markdown",
   "source": "# Load data",
   "id": "1e2359c906708403"
  },
  {
   "metadata": {
    "ExecuteTime": {
     "end_time": "2024-06-10T13:23:48.979743Z",
     "start_time": "2024-06-10T13:23:47.748264Z"
    }
   },
   "cell_type": "code",
   "source": [
    "energyefficiency1 = EnergyEfficiency1()\n",
    "energyefficiency2 = EnergyEfficiency2()\n",
    "energyefficiency1.load_dataset()\n",
    "energyefficiency2.load_dataset()"
   ],
   "id": "7fedc3f5b32e3131",
   "outputs": [
    {
     "name": "stdout",
     "output_type": "stream",
     "text": [
      "loading EnergyEfficiency h5 file\n",
      "loading EnergyEfficiency h5 file\n"
     ]
    }
   ],
   "execution_count": 3
  },
  {
   "metadata": {
    "ExecuteTime": {
     "end_time": "2024-06-10T13:23:48.996404Z",
     "start_time": "2024-06-10T13:23:48.980636Z"
    }
   },
   "cell_type": "code",
   "source": "energyefficiency1.X.head()",
   "id": "f6b5070b2fbf1c16",
   "outputs": [
    {
     "data": {
      "text/plain": [
       "         X1        X2        X3        X4   X5        X6   X7   X8\n",
       "0  1.000000  0.000000  0.285714  0.000000  1.0  0.000000  0.0  0.0\n",
       "1  1.000000  0.000000  0.285714  0.000000  1.0  0.333333  0.0  0.0\n",
       "2  1.000000  0.000000  0.285714  0.000000  1.0  0.666667  0.0  0.0\n",
       "3  1.000000  0.000000  0.285714  0.000000  1.0  1.000000  0.0  0.0\n",
       "4  0.777778  0.166667  0.428571  0.111111  1.0  0.000000  0.0  0.0"
      ],
      "text/html": [
       "<div>\n",
       "<style scoped>\n",
       "    .dataframe tbody tr th:only-of-type {\n",
       "        vertical-align: middle;\n",
       "    }\n",
       "\n",
       "    .dataframe tbody tr th {\n",
       "        vertical-align: top;\n",
       "    }\n",
       "\n",
       "    .dataframe thead th {\n",
       "        text-align: right;\n",
       "    }\n",
       "</style>\n",
       "<table border=\"1\" class=\"dataframe\">\n",
       "  <thead>\n",
       "    <tr style=\"text-align: right;\">\n",
       "      <th></th>\n",
       "      <th>X1</th>\n",
       "      <th>X2</th>\n",
       "      <th>X3</th>\n",
       "      <th>X4</th>\n",
       "      <th>X5</th>\n",
       "      <th>X6</th>\n",
       "      <th>X7</th>\n",
       "      <th>X8</th>\n",
       "    </tr>\n",
       "  </thead>\n",
       "  <tbody>\n",
       "    <tr>\n",
       "      <th>0</th>\n",
       "      <td>1.000000</td>\n",
       "      <td>0.000000</td>\n",
       "      <td>0.285714</td>\n",
       "      <td>0.000000</td>\n",
       "      <td>1.0</td>\n",
       "      <td>0.000000</td>\n",
       "      <td>0.0</td>\n",
       "      <td>0.0</td>\n",
       "    </tr>\n",
       "    <tr>\n",
       "      <th>1</th>\n",
       "      <td>1.000000</td>\n",
       "      <td>0.000000</td>\n",
       "      <td>0.285714</td>\n",
       "      <td>0.000000</td>\n",
       "      <td>1.0</td>\n",
       "      <td>0.333333</td>\n",
       "      <td>0.0</td>\n",
       "      <td>0.0</td>\n",
       "    </tr>\n",
       "    <tr>\n",
       "      <th>2</th>\n",
       "      <td>1.000000</td>\n",
       "      <td>0.000000</td>\n",
       "      <td>0.285714</td>\n",
       "      <td>0.000000</td>\n",
       "      <td>1.0</td>\n",
       "      <td>0.666667</td>\n",
       "      <td>0.0</td>\n",
       "      <td>0.0</td>\n",
       "    </tr>\n",
       "    <tr>\n",
       "      <th>3</th>\n",
       "      <td>1.000000</td>\n",
       "      <td>0.000000</td>\n",
       "      <td>0.285714</td>\n",
       "      <td>0.000000</td>\n",
       "      <td>1.0</td>\n",
       "      <td>1.000000</td>\n",
       "      <td>0.0</td>\n",
       "      <td>0.0</td>\n",
       "    </tr>\n",
       "    <tr>\n",
       "      <th>4</th>\n",
       "      <td>0.777778</td>\n",
       "      <td>0.166667</td>\n",
       "      <td>0.428571</td>\n",
       "      <td>0.111111</td>\n",
       "      <td>1.0</td>\n",
       "      <td>0.000000</td>\n",
       "      <td>0.0</td>\n",
       "      <td>0.0</td>\n",
       "    </tr>\n",
       "  </tbody>\n",
       "</table>\n",
       "</div>"
      ]
     },
     "execution_count": 4,
     "metadata": {},
     "output_type": "execute_result"
    }
   ],
   "execution_count": 4
  },
  {
   "metadata": {
    "ExecuteTime": {
     "end_time": "2024-06-10T13:23:49.016250Z",
     "start_time": "2024-06-10T13:23:48.997911Z"
    }
   },
   "cell_type": "code",
   "source": "energyefficiency2.X.head()",
   "id": "6c6cc878ca8b3b12",
   "outputs": [
    {
     "data": {
      "text/plain": [
       "         X1        X2        X3        X4   X5        X6   X7   X8\n",
       "0  1.000000  0.000000  0.285714  0.000000  1.0  0.000000  0.0  0.0\n",
       "1  1.000000  0.000000  0.285714  0.000000  1.0  0.333333  0.0  0.0\n",
       "2  1.000000  0.000000  0.285714  0.000000  1.0  0.666667  0.0  0.0\n",
       "3  1.000000  0.000000  0.285714  0.000000  1.0  1.000000  0.0  0.0\n",
       "4  0.777778  0.166667  0.428571  0.111111  1.0  0.000000  0.0  0.0"
      ],
      "text/html": [
       "<div>\n",
       "<style scoped>\n",
       "    .dataframe tbody tr th:only-of-type {\n",
       "        vertical-align: middle;\n",
       "    }\n",
       "\n",
       "    .dataframe tbody tr th {\n",
       "        vertical-align: top;\n",
       "    }\n",
       "\n",
       "    .dataframe thead th {\n",
       "        text-align: right;\n",
       "    }\n",
       "</style>\n",
       "<table border=\"1\" class=\"dataframe\">\n",
       "  <thead>\n",
       "    <tr style=\"text-align: right;\">\n",
       "      <th></th>\n",
       "      <th>X1</th>\n",
       "      <th>X2</th>\n",
       "      <th>X3</th>\n",
       "      <th>X4</th>\n",
       "      <th>X5</th>\n",
       "      <th>X6</th>\n",
       "      <th>X7</th>\n",
       "      <th>X8</th>\n",
       "    </tr>\n",
       "  </thead>\n",
       "  <tbody>\n",
       "    <tr>\n",
       "      <th>0</th>\n",
       "      <td>1.000000</td>\n",
       "      <td>0.000000</td>\n",
       "      <td>0.285714</td>\n",
       "      <td>0.000000</td>\n",
       "      <td>1.0</td>\n",
       "      <td>0.000000</td>\n",
       "      <td>0.0</td>\n",
       "      <td>0.0</td>\n",
       "    </tr>\n",
       "    <tr>\n",
       "      <th>1</th>\n",
       "      <td>1.000000</td>\n",
       "      <td>0.000000</td>\n",
       "      <td>0.285714</td>\n",
       "      <td>0.000000</td>\n",
       "      <td>1.0</td>\n",
       "      <td>0.333333</td>\n",
       "      <td>0.0</td>\n",
       "      <td>0.0</td>\n",
       "    </tr>\n",
       "    <tr>\n",
       "      <th>2</th>\n",
       "      <td>1.000000</td>\n",
       "      <td>0.000000</td>\n",
       "      <td>0.285714</td>\n",
       "      <td>0.000000</td>\n",
       "      <td>1.0</td>\n",
       "      <td>0.666667</td>\n",
       "      <td>0.0</td>\n",
       "      <td>0.0</td>\n",
       "    </tr>\n",
       "    <tr>\n",
       "      <th>3</th>\n",
       "      <td>1.000000</td>\n",
       "      <td>0.000000</td>\n",
       "      <td>0.285714</td>\n",
       "      <td>0.000000</td>\n",
       "      <td>1.0</td>\n",
       "      <td>1.000000</td>\n",
       "      <td>0.0</td>\n",
       "      <td>0.0</td>\n",
       "    </tr>\n",
       "    <tr>\n",
       "      <th>4</th>\n",
       "      <td>0.777778</td>\n",
       "      <td>0.166667</td>\n",
       "      <td>0.428571</td>\n",
       "      <td>0.111111</td>\n",
       "      <td>1.0</td>\n",
       "      <td>0.000000</td>\n",
       "      <td>0.0</td>\n",
       "      <td>0.0</td>\n",
       "    </tr>\n",
       "  </tbody>\n",
       "</table>\n",
       "</div>"
      ]
     },
     "execution_count": 5,
     "metadata": {},
     "output_type": "execute_result"
    }
   ],
   "execution_count": 5
  },
  {
   "metadata": {},
   "cell_type": "markdown",
   "source": "# Is target correlated with surface area?",
   "id": "b4253e8567cd6e70"
  },
  {
   "metadata": {},
   "cell_type": "markdown",
   "source": "X2 is the surface area.",
   "id": "fc4d925d9ef2f5a6"
  },
  {
   "metadata": {
    "ExecuteTime": {
     "end_time": "2024-06-10T13:25:33.493897Z",
     "start_time": "2024-06-10T13:25:33.490073Z"
    }
   },
   "cell_type": "code",
   "source": [
    "print(\"Correlation with heating load: \", energyefficiency1.X['X2'].corr(energyefficiency1.y))\n",
    "print(\"Correlation with cooling load: \", energyefficiency2.X['X2'].corr(energyefficiency2.y))"
   ],
   "id": "2d11f300e889cba1",
   "outputs": [
    {
     "name": "stdout",
     "output_type": "stream",
     "text": [
      "Correlation with heating load:  -0.6581202267776206\n",
      "Correlation with cooling load:  -0.6729989333544858\n"
     ]
    }
   ],
   "execution_count": 9
  },
  {
   "metadata": {},
   "cell_type": "markdown",
   "source": "Yes! But more than the other features?",
   "id": "17bdd9db98d03fbf"
  },
  {
   "metadata": {
    "ExecuteTime": {
     "end_time": "2024-06-10T13:25:47.739758Z",
     "start_time": "2024-06-10T13:25:47.731645Z"
    }
   },
   "cell_type": "code",
   "source": "energyefficiency1.X.corrwith(energyefficiency1.y)",
   "id": "12219025e4f2f28a",
   "outputs": [
    {
     "data": {
      "text/plain": [
       "X1    0.622272\n",
       "X2   -0.658120\n",
       "X3    0.455671\n",
       "X4   -0.861828\n",
       "X5    0.889431\n",
       "X6   -0.002587\n",
       "X7    0.269841\n",
       "X8    0.087368\n",
       "dtype: float64"
      ]
     },
     "execution_count": 10,
     "metadata": {},
     "output_type": "execute_result"
    }
   ],
   "execution_count": 10
  },
  {
   "metadata": {},
   "cell_type": "markdown",
   "source": "X4 (roof area) and X5 (overall height) are the most correlated with heating load.",
   "id": "232788c74b05cda3"
  },
  {
   "metadata": {
    "ExecuteTime": {
     "end_time": "2024-06-10T13:30:24.211534Z",
     "start_time": "2024-06-10T13:30:24.203860Z"
    }
   },
   "cell_type": "code",
   "source": "energyefficiency2.X.corrwith(energyefficiency2.y)",
   "id": "48202839297d87a8",
   "outputs": [
    {
     "data": {
      "text/plain": [
       "X1    0.634339\n",
       "X2   -0.672999\n",
       "X3    0.427117\n",
       "X4   -0.862547\n",
       "X5    0.895785\n",
       "X6    0.014290\n",
       "X7    0.207505\n",
       "X8    0.050525\n",
       "dtype: float64"
      ]
     },
     "execution_count": 11,
     "metadata": {},
     "output_type": "execute_result"
    }
   ],
   "execution_count": 11
  },
  {
   "metadata": {},
   "cell_type": "markdown",
   "source": "And the same holds for the cooling load.",
   "id": "f14546194967c1fc"
  }
 ],
 "metadata": {
  "kernelspec": {
   "display_name": "Python 3",
   "language": "python",
   "name": "python3"
  },
  "language_info": {
   "codemirror_mode": {
    "name": "ipython",
    "version": 2
   },
   "file_extension": ".py",
   "mimetype": "text/x-python",
   "name": "python",
   "nbconvert_exporter": "python",
   "pygments_lexer": "ipython2",
   "version": "2.7.6"
  }
 },
 "nbformat": 4,
 "nbformat_minor": 5
}
