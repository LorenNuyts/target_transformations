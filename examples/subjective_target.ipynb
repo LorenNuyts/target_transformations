{
 "cells": [
  {
   "cell_type": "code",
   "id": "initial_id",
   "metadata": {
    "collapsed": true,
    "ExecuteTime": {
     "end_time": "2025-01-14T13:16:00.266609Z",
     "start_time": "2025-01-14T13:15:59.892283Z"
    }
   },
   "source": "import pandas as pd",
   "outputs": [],
   "execution_count": 1
  },
  {
   "metadata": {},
   "cell_type": "markdown",
   "source": "# The data",
   "id": "77a8a151f844a510"
  },
  {
   "metadata": {
    "ExecuteTime": {
     "end_time": "2025-01-14T13:16:09.385851Z",
     "start_time": "2025-01-14T13:16:09.365727Z"
    }
   },
   "cell_type": "code",
   "source": [
    "data = {\n",
    "    \"T1\": [2.978914, 5.076367, 6.241271, 4.703676, 2.365248],\n",
    "    \"T2\": [4.969531, 7.366404, 2.988471, 6.980317, 3.160256],\n",
    "    \"T3\": [3.136124, 5.901899, 3.935697, 5.910061, 4.120970],\n",
    "    \"T4\": [2.379705, 6.365317, 6.223268, 2.750074, 5.087392],\n",
    "    \"T5\": [6.696634, 5.900297, 7.035676, 5.880760, 2.905313],\n",
    "    \"T6\": [4.159496, 9.581275, 6.185028, 4.817011, 3.345586],\n",
    "    \"T7\": [4.599453, 6.782611, 5.754503, 4.379251, 1.964572],\n",
    "    \"T8\": [2.361038, 5.216291, 5.476320, 6.312148, 1.829765],\n",
    "    \"T9\": [3.681586, 8.036675, 3.710193, 6.941133, 4.842863],\n",
    "    \"T10\": [4.664544, 4.971592, 4.848209, 6.791554, 5.658435],\n",
    "}\n",
    "\n",
    "df = pd.DataFrame(data)\n",
    "df.head()"
   ],
   "id": "8eb2059e18229148",
   "outputs": [
    {
     "data": {
      "text/plain": [
       "   Subject        Q1        Q2        Q3        Q4        Q5        Q6  \\\n",
       "0        0  2.978914  4.969531  3.136124  2.379705  6.696634  4.159496   \n",
       "1        1  5.076367  7.366404  5.901899  6.365317  5.900297  9.581275   \n",
       "2        2  6.241271  2.988471  3.935697  6.223268  7.035676  6.185028   \n",
       "3        3  4.703676  6.980317  5.910061  2.750074  5.880760  4.817011   \n",
       "4        4  2.365248  3.160256  4.120970  5.087392  2.905313  3.345586   \n",
       "\n",
       "         Q7        Q8        Q9       Q10  \n",
       "0  4.599453  2.361038  3.681586  4.664544  \n",
       "1  6.782611  5.216291  8.036675  4.971592  \n",
       "2  5.754503  5.476320  3.710193  4.848209  \n",
       "3  4.379251  6.312148  6.941133  6.791554  \n",
       "4  1.964572  1.829765  4.842863  5.658435  "
      ],
      "text/html": [
       "<div>\n",
       "<style scoped>\n",
       "    .dataframe tbody tr th:only-of-type {\n",
       "        vertical-align: middle;\n",
       "    }\n",
       "\n",
       "    .dataframe tbody tr th {\n",
       "        vertical-align: top;\n",
       "    }\n",
       "\n",
       "    .dataframe thead th {\n",
       "        text-align: right;\n",
       "    }\n",
       "</style>\n",
       "<table border=\"1\" class=\"dataframe\">\n",
       "  <thead>\n",
       "    <tr style=\"text-align: right;\">\n",
       "      <th></th>\n",
       "      <th>Subject</th>\n",
       "      <th>Q1</th>\n",
       "      <th>Q2</th>\n",
       "      <th>Q3</th>\n",
       "      <th>Q4</th>\n",
       "      <th>Q5</th>\n",
       "      <th>Q6</th>\n",
       "      <th>Q7</th>\n",
       "      <th>Q8</th>\n",
       "      <th>Q9</th>\n",
       "      <th>Q10</th>\n",
       "    </tr>\n",
       "  </thead>\n",
       "  <tbody>\n",
       "    <tr>\n",
       "      <th>0</th>\n",
       "      <td>0</td>\n",
       "      <td>2.978914</td>\n",
       "      <td>4.969531</td>\n",
       "      <td>3.136124</td>\n",
       "      <td>2.379705</td>\n",
       "      <td>6.696634</td>\n",
       "      <td>4.159496</td>\n",
       "      <td>4.599453</td>\n",
       "      <td>2.361038</td>\n",
       "      <td>3.681586</td>\n",
       "      <td>4.664544</td>\n",
       "    </tr>\n",
       "    <tr>\n",
       "      <th>1</th>\n",
       "      <td>1</td>\n",
       "      <td>5.076367</td>\n",
       "      <td>7.366404</td>\n",
       "      <td>5.901899</td>\n",
       "      <td>6.365317</td>\n",
       "      <td>5.900297</td>\n",
       "      <td>9.581275</td>\n",
       "      <td>6.782611</td>\n",
       "      <td>5.216291</td>\n",
       "      <td>8.036675</td>\n",
       "      <td>4.971592</td>\n",
       "    </tr>\n",
       "    <tr>\n",
       "      <th>2</th>\n",
       "      <td>2</td>\n",
       "      <td>6.241271</td>\n",
       "      <td>2.988471</td>\n",
       "      <td>3.935697</td>\n",
       "      <td>6.223268</td>\n",
       "      <td>7.035676</td>\n",
       "      <td>6.185028</td>\n",
       "      <td>5.754503</td>\n",
       "      <td>5.476320</td>\n",
       "      <td>3.710193</td>\n",
       "      <td>4.848209</td>\n",
       "    </tr>\n",
       "    <tr>\n",
       "      <th>3</th>\n",
       "      <td>3</td>\n",
       "      <td>4.703676</td>\n",
       "      <td>6.980317</td>\n",
       "      <td>5.910061</td>\n",
       "      <td>2.750074</td>\n",
       "      <td>5.880760</td>\n",
       "      <td>4.817011</td>\n",
       "      <td>4.379251</td>\n",
       "      <td>6.312148</td>\n",
       "      <td>6.941133</td>\n",
       "      <td>6.791554</td>\n",
       "    </tr>\n",
       "    <tr>\n",
       "      <th>4</th>\n",
       "      <td>4</td>\n",
       "      <td>2.365248</td>\n",
       "      <td>3.160256</td>\n",
       "      <td>4.120970</td>\n",
       "      <td>5.087392</td>\n",
       "      <td>2.905313</td>\n",
       "      <td>3.345586</td>\n",
       "      <td>1.964572</td>\n",
       "      <td>1.829765</td>\n",
       "      <td>4.842863</td>\n",
       "      <td>5.658435</td>\n",
       "    </tr>\n",
       "  </tbody>\n",
       "</table>\n",
       "</div>"
      ]
     },
     "execution_count": 3,
     "metadata": {},
     "output_type": "execute_result"
    }
   ],
   "execution_count": 3
  },
  {
   "metadata": {
    "ExecuteTime": {
     "end_time": "2025-01-14T13:30:12.692068Z",
     "start_time": "2025-01-14T13:30:12.688248Z"
    }
   },
   "cell_type": "code",
   "source": [
    "# Select all but the last two columns\n",
    "df_train = df.iloc[:, :-2]\n",
    "df_test = df.iloc[:, -2:]"
   ],
   "id": "b7d7171bbee00782",
   "outputs": [],
   "execution_count": 6
  },
  {
   "metadata": {
    "ExecuteTime": {
     "end_time": "2025-01-14T13:30:14.329741Z",
     "start_time": "2025-01-14T13:30:14.317344Z"
    }
   },
   "cell_type": "code",
   "source": "df_train.head()",
   "id": "34586277348ad072",
   "outputs": [
    {
     "data": {
      "text/plain": [
       "   Subject        Q1        Q2        Q3        Q4        Q5        Q6  \\\n",
       "0        0  2.978914  4.969531  3.136124  2.379705  6.696634  4.159496   \n",
       "1        1  5.076367  7.366404  5.901899  6.365317  5.900297  9.581275   \n",
       "2        2  6.241271  2.988471  3.935697  6.223268  7.035676  6.185028   \n",
       "3        3  4.703676  6.980317  5.910061  2.750074  5.880760  4.817011   \n",
       "4        4  2.365248  3.160256  4.120970  5.087392  2.905313  3.345586   \n",
       "\n",
       "         Q7        Q8  \n",
       "0  4.599453  2.361038  \n",
       "1  6.782611  5.216291  \n",
       "2  5.754503  5.476320  \n",
       "3  4.379251  6.312148  \n",
       "4  1.964572  1.829765  "
      ],
      "text/html": [
       "<div>\n",
       "<style scoped>\n",
       "    .dataframe tbody tr th:only-of-type {\n",
       "        vertical-align: middle;\n",
       "    }\n",
       "\n",
       "    .dataframe tbody tr th {\n",
       "        vertical-align: top;\n",
       "    }\n",
       "\n",
       "    .dataframe thead th {\n",
       "        text-align: right;\n",
       "    }\n",
       "</style>\n",
       "<table border=\"1\" class=\"dataframe\">\n",
       "  <thead>\n",
       "    <tr style=\"text-align: right;\">\n",
       "      <th></th>\n",
       "      <th>Subject</th>\n",
       "      <th>Q1</th>\n",
       "      <th>Q2</th>\n",
       "      <th>Q3</th>\n",
       "      <th>Q4</th>\n",
       "      <th>Q5</th>\n",
       "      <th>Q6</th>\n",
       "      <th>Q7</th>\n",
       "      <th>Q8</th>\n",
       "    </tr>\n",
       "  </thead>\n",
       "  <tbody>\n",
       "    <tr>\n",
       "      <th>0</th>\n",
       "      <td>0</td>\n",
       "      <td>2.978914</td>\n",
       "      <td>4.969531</td>\n",
       "      <td>3.136124</td>\n",
       "      <td>2.379705</td>\n",
       "      <td>6.696634</td>\n",
       "      <td>4.159496</td>\n",
       "      <td>4.599453</td>\n",
       "      <td>2.361038</td>\n",
       "    </tr>\n",
       "    <tr>\n",
       "      <th>1</th>\n",
       "      <td>1</td>\n",
       "      <td>5.076367</td>\n",
       "      <td>7.366404</td>\n",
       "      <td>5.901899</td>\n",
       "      <td>6.365317</td>\n",
       "      <td>5.900297</td>\n",
       "      <td>9.581275</td>\n",
       "      <td>6.782611</td>\n",
       "      <td>5.216291</td>\n",
       "    </tr>\n",
       "    <tr>\n",
       "      <th>2</th>\n",
       "      <td>2</td>\n",
       "      <td>6.241271</td>\n",
       "      <td>2.988471</td>\n",
       "      <td>3.935697</td>\n",
       "      <td>6.223268</td>\n",
       "      <td>7.035676</td>\n",
       "      <td>6.185028</td>\n",
       "      <td>5.754503</td>\n",
       "      <td>5.476320</td>\n",
       "    </tr>\n",
       "    <tr>\n",
       "      <th>3</th>\n",
       "      <td>3</td>\n",
       "      <td>4.703676</td>\n",
       "      <td>6.980317</td>\n",
       "      <td>5.910061</td>\n",
       "      <td>2.750074</td>\n",
       "      <td>5.880760</td>\n",
       "      <td>4.817011</td>\n",
       "      <td>4.379251</td>\n",
       "      <td>6.312148</td>\n",
       "    </tr>\n",
       "    <tr>\n",
       "      <th>4</th>\n",
       "      <td>4</td>\n",
       "      <td>2.365248</td>\n",
       "      <td>3.160256</td>\n",
       "      <td>4.120970</td>\n",
       "      <td>5.087392</td>\n",
       "      <td>2.905313</td>\n",
       "      <td>3.345586</td>\n",
       "      <td>1.964572</td>\n",
       "      <td>1.829765</td>\n",
       "    </tr>\n",
       "  </tbody>\n",
       "</table>\n",
       "</div>"
      ]
     },
     "execution_count": 7,
     "metadata": {},
     "output_type": "execute_result"
    }
   ],
   "execution_count": 7
  },
  {
   "metadata": {
    "ExecuteTime": {
     "end_time": "2025-01-14T13:30:17.995019Z",
     "start_time": "2025-01-14T13:30:17.987182Z"
    }
   },
   "cell_type": "code",
   "source": "df_test.head()",
   "id": "89917bab3bcfad0e",
   "outputs": [
    {
     "data": {
      "text/plain": [
       "         Q9       Q10\n",
       "0  3.681586  4.664544\n",
       "1  8.036675  4.971592\n",
       "2  3.710193  4.848209\n",
       "3  6.941133  6.791554\n",
       "4  4.842863  5.658435"
      ],
      "text/html": [
       "<div>\n",
       "<style scoped>\n",
       "    .dataframe tbody tr th:only-of-type {\n",
       "        vertical-align: middle;\n",
       "    }\n",
       "\n",
       "    .dataframe tbody tr th {\n",
       "        vertical-align: top;\n",
       "    }\n",
       "\n",
       "    .dataframe thead th {\n",
       "        text-align: right;\n",
       "    }\n",
       "</style>\n",
       "<table border=\"1\" class=\"dataframe\">\n",
       "  <thead>\n",
       "    <tr style=\"text-align: right;\">\n",
       "      <th></th>\n",
       "      <th>Q9</th>\n",
       "      <th>Q10</th>\n",
       "    </tr>\n",
       "  </thead>\n",
       "  <tbody>\n",
       "    <tr>\n",
       "      <th>0</th>\n",
       "      <td>3.681586</td>\n",
       "      <td>4.664544</td>\n",
       "    </tr>\n",
       "    <tr>\n",
       "      <th>1</th>\n",
       "      <td>8.036675</td>\n",
       "      <td>4.971592</td>\n",
       "    </tr>\n",
       "    <tr>\n",
       "      <th>2</th>\n",
       "      <td>3.710193</td>\n",
       "      <td>4.848209</td>\n",
       "    </tr>\n",
       "    <tr>\n",
       "      <th>3</th>\n",
       "      <td>6.941133</td>\n",
       "      <td>6.791554</td>\n",
       "    </tr>\n",
       "    <tr>\n",
       "      <th>4</th>\n",
       "      <td>4.842863</td>\n",
       "      <td>5.658435</td>\n",
       "    </tr>\n",
       "  </tbody>\n",
       "</table>\n",
       "</div>"
      ]
     },
     "execution_count": 8,
     "metadata": {},
     "output_type": "execute_result"
    }
   ],
   "execution_count": 8
  },
  {
   "metadata": {},
   "cell_type": "markdown",
   "source": "# The transformation",
   "id": "813ef56607b6151d"
  },
  {
   "metadata": {
    "ExecuteTime": {
     "end_time": "2025-01-14T13:34:58.142318Z",
     "start_time": "2025-01-14T13:34:58.127098Z"
    }
   },
   "cell_type": "code",
   "source": [
    "from src.transformations.transformers import SubjectiveTransformer\n",
    "transformer = SubjectiveTransformer()"
   ],
   "id": "953ca86f85582e60",
   "outputs": [
    {
     "data": {
      "text/plain": [
       "0    3.475655\n",
       "1    5.910051\n",
       "2    5.093359\n",
       "3    4.970366\n",
       "4    3.197678\n",
       "dtype: float64"
      ]
     },
     "execution_count": 13,
     "metadata": {},
     "output_type": "execute_result"
    }
   ],
   "execution_count": 13
  },
  {
   "metadata": {
    "ExecuteTime": {
     "end_time": "2025-01-14T13:30:39.834486Z",
     "start_time": "2025-01-14T13:30:39.814479Z"
    }
   },
   "cell_type": "code",
   "source": [
    "transformed_df_train = transformer.fit(df_train)\n",
    "transformed_df_train.head()"
   ],
   "id": "7ac7397471797997",
   "outputs": [
    {
     "data": {
      "text/plain": [
       "    Subject        Q1        Q2        Q3        Q4        Q5        Q6  \\\n",
       "0 -3.475655 -0.496741  1.493876 -0.339531 -1.095950  3.220979  0.683841   \n",
       "1 -4.910051 -0.833684  1.456353 -0.008152  0.455266 -0.009754  3.671224   \n",
       "2 -3.093359  1.147912 -2.104888 -1.157662  1.129909  1.942317  1.091669   \n",
       "3 -1.970366 -0.266690  2.009951  0.939695 -2.220292  0.910394 -0.153355   \n",
       "4  0.802322 -0.832430 -0.037422  0.923292  1.889714 -0.292365  0.147908   \n",
       "\n",
       "         Q7        Q8  \n",
       "0  1.123798 -1.114617  \n",
       "1  0.872560 -0.693760  \n",
       "2  0.661144  0.382961  \n",
       "3 -0.591115  1.341782  \n",
       "4 -1.233106 -1.367913  "
      ],
      "text/html": [
       "<div>\n",
       "<style scoped>\n",
       "    .dataframe tbody tr th:only-of-type {\n",
       "        vertical-align: middle;\n",
       "    }\n",
       "\n",
       "    .dataframe tbody tr th {\n",
       "        vertical-align: top;\n",
       "    }\n",
       "\n",
       "    .dataframe thead th {\n",
       "        text-align: right;\n",
       "    }\n",
       "</style>\n",
       "<table border=\"1\" class=\"dataframe\">\n",
       "  <thead>\n",
       "    <tr style=\"text-align: right;\">\n",
       "      <th></th>\n",
       "      <th>Subject</th>\n",
       "      <th>Q1</th>\n",
       "      <th>Q2</th>\n",
       "      <th>Q3</th>\n",
       "      <th>Q4</th>\n",
       "      <th>Q5</th>\n",
       "      <th>Q6</th>\n",
       "      <th>Q7</th>\n",
       "      <th>Q8</th>\n",
       "    </tr>\n",
       "  </thead>\n",
       "  <tbody>\n",
       "    <tr>\n",
       "      <th>0</th>\n",
       "      <td>-3.475655</td>\n",
       "      <td>-0.496741</td>\n",
       "      <td>1.493876</td>\n",
       "      <td>-0.339531</td>\n",
       "      <td>-1.095950</td>\n",
       "      <td>3.220979</td>\n",
       "      <td>0.683841</td>\n",
       "      <td>1.123798</td>\n",
       "      <td>-1.114617</td>\n",
       "    </tr>\n",
       "    <tr>\n",
       "      <th>1</th>\n",
       "      <td>-4.910051</td>\n",
       "      <td>-0.833684</td>\n",
       "      <td>1.456353</td>\n",
       "      <td>-0.008152</td>\n",
       "      <td>0.455266</td>\n",
       "      <td>-0.009754</td>\n",
       "      <td>3.671224</td>\n",
       "      <td>0.872560</td>\n",
       "      <td>-0.693760</td>\n",
       "    </tr>\n",
       "    <tr>\n",
       "      <th>2</th>\n",
       "      <td>-3.093359</td>\n",
       "      <td>1.147912</td>\n",
       "      <td>-2.104888</td>\n",
       "      <td>-1.157662</td>\n",
       "      <td>1.129909</td>\n",
       "      <td>1.942317</td>\n",
       "      <td>1.091669</td>\n",
       "      <td>0.661144</td>\n",
       "      <td>0.382961</td>\n",
       "    </tr>\n",
       "    <tr>\n",
       "      <th>3</th>\n",
       "      <td>-1.970366</td>\n",
       "      <td>-0.266690</td>\n",
       "      <td>2.009951</td>\n",
       "      <td>0.939695</td>\n",
       "      <td>-2.220292</td>\n",
       "      <td>0.910394</td>\n",
       "      <td>-0.153355</td>\n",
       "      <td>-0.591115</td>\n",
       "      <td>1.341782</td>\n",
       "    </tr>\n",
       "    <tr>\n",
       "      <th>4</th>\n",
       "      <td>0.802322</td>\n",
       "      <td>-0.832430</td>\n",
       "      <td>-0.037422</td>\n",
       "      <td>0.923292</td>\n",
       "      <td>1.889714</td>\n",
       "      <td>-0.292365</td>\n",
       "      <td>0.147908</td>\n",
       "      <td>-1.233106</td>\n",
       "      <td>-1.367913</td>\n",
       "    </tr>\n",
       "  </tbody>\n",
       "</table>\n",
       "</div>"
      ]
     },
     "execution_count": 10,
     "metadata": {},
     "output_type": "execute_result"
    }
   ],
   "execution_count": 10
  },
  {
   "metadata": {
    "ExecuteTime": {
     "end_time": "2025-01-14T13:31:04.092311Z",
     "start_time": "2025-01-14T13:31:04.083137Z"
    }
   },
   "cell_type": "code",
   "source": [
    "transformed_df_test = transformer.transform(df_test)\n",
    "transformed_df_test.head()"
   ],
   "id": "219fb5dcd1bbf387",
   "outputs": [
    {
     "data": {
      "text/plain": [
       "         Q9       Q10\n",
       "0  0.205931  1.188889\n",
       "1  2.126624 -0.938459\n",
       "2 -1.383166 -0.245150\n",
       "3  1.970767  1.821188\n",
       "4  1.645185  2.460757"
      ],
      "text/html": [
       "<div>\n",
       "<style scoped>\n",
       "    .dataframe tbody tr th:only-of-type {\n",
       "        vertical-align: middle;\n",
       "    }\n",
       "\n",
       "    .dataframe tbody tr th {\n",
       "        vertical-align: top;\n",
       "    }\n",
       "\n",
       "    .dataframe thead th {\n",
       "        text-align: right;\n",
       "    }\n",
       "</style>\n",
       "<table border=\"1\" class=\"dataframe\">\n",
       "  <thead>\n",
       "    <tr style=\"text-align: right;\">\n",
       "      <th></th>\n",
       "      <th>Q9</th>\n",
       "      <th>Q10</th>\n",
       "    </tr>\n",
       "  </thead>\n",
       "  <tbody>\n",
       "    <tr>\n",
       "      <th>0</th>\n",
       "      <td>0.205931</td>\n",
       "      <td>1.188889</td>\n",
       "    </tr>\n",
       "    <tr>\n",
       "      <th>1</th>\n",
       "      <td>2.126624</td>\n",
       "      <td>-0.938459</td>\n",
       "    </tr>\n",
       "    <tr>\n",
       "      <th>2</th>\n",
       "      <td>-1.383166</td>\n",
       "      <td>-0.245150</td>\n",
       "    </tr>\n",
       "    <tr>\n",
       "      <th>3</th>\n",
       "      <td>1.970767</td>\n",
       "      <td>1.821188</td>\n",
       "    </tr>\n",
       "    <tr>\n",
       "      <th>4</th>\n",
       "      <td>1.645185</td>\n",
       "      <td>2.460757</td>\n",
       "    </tr>\n",
       "  </tbody>\n",
       "</table>\n",
       "</div>"
      ]
     },
     "execution_count": 11,
     "metadata": {},
     "output_type": "execute_result"
    }
   ],
   "execution_count": 11
  },
  {
   "metadata": {},
   "cell_type": "markdown",
   "source": "## Inverse transformation",
   "id": "e87bb23a1883c3f5"
  },
  {
   "metadata": {
    "ExecuteTime": {
     "end_time": "2025-01-14T13:31:30.875908Z",
     "start_time": "2025-01-14T13:31:30.872014Z"
    }
   },
   "cell_type": "code",
   "source": [
    "inverse_transformed_df_train = transformer.inverse_transform(transformed_df_train)\n",
    "assert df_train.equals(inverse_transformed_df_train)"
   ],
   "id": "178ee9b308756079",
   "outputs": [],
   "execution_count": 12
  },
  {
   "metadata": {},
   "cell_type": "code",
   "outputs": [],
   "execution_count": null,
   "source": [
    "inverse_transformed_df_test = transformer.inverse_transform(transformed_df_test)\n",
    "assert df_test.equals(inverse_transformed_df_test)"
   ],
   "id": "3e457e88fd5186cd"
  }
 ],
 "metadata": {
  "kernelspec": {
   "display_name": "Python 3",
   "language": "python",
   "name": "python3"
  },
  "language_info": {
   "codemirror_mode": {
    "name": "ipython",
    "version": 2
   },
   "file_extension": ".py",
   "mimetype": "text/x-python",
   "name": "python",
   "nbconvert_exporter": "python",
   "pygments_lexer": "ipython2",
   "version": "2.7.6"
  }
 },
 "nbformat": 4,
 "nbformat_minor": 5
}
