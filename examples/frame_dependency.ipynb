{
 "cells": [
  {
   "cell_type": "code",
   "id": "initial_id",
   "metadata": {
    "collapsed": true,
    "ExecuteTime": {
     "end_time": "2025-01-14T14:18:47.612755Z",
     "start_time": "2025-01-14T14:18:47.609063Z"
    }
   },
   "source": [
    "import pandas as pd\n",
    "import numpy as np"
   ],
   "outputs": [],
   "execution_count": 5
  },
  {
   "metadata": {},
   "cell_type": "markdown",
   "source": "# Frame Dependency Example",
   "id": "19f708c806d2ebbb"
  },
  {
   "metadata": {
    "ExecuteTime": {
     "end_time": "2025-01-14T14:18:47.669284Z",
     "start_time": "2025-01-14T14:18:47.664860Z"
    }
   },
   "cell_type": "code",
   "source": [
    "series_data = [4.370861, 9.556429, 7.587945, 6.387926, 2.404168, 2.403951,\n",
    "               1.522753, 8.795585, 6.410035, 7.372653, 1.185260, 9.729189,\n",
    "               8.491984, 2.911052, 2.636425]\n",
    "series = pd.Series(series_data)"
   ],
   "id": "c654dc3e916aa47c",
   "outputs": [],
   "execution_count": 6
  },
  {
   "metadata": {
    "ExecuteTime": {
     "end_time": "2025-01-14T14:18:47.734913Z",
     "start_time": "2025-01-14T14:18:47.723893Z"
    }
   },
   "cell_type": "code",
   "source": [
    "reference = np.random.rand(len(series))\n",
    "reference = pd.Series(reference)\n",
    "reference.head()"
   ],
   "id": "ec6820cc26cd9842",
   "outputs": [
    {
     "data": {
      "text/plain": [
       "0    0.207162\n",
       "1    0.302329\n",
       "2    0.040112\n",
       "3    0.115886\n",
       "4    0.740895\n",
       "dtype: float64"
      ]
     },
     "execution_count": 7,
     "metadata": {},
     "output_type": "execute_result"
    }
   ],
   "execution_count": 7
  },
  {
   "metadata": {
    "ExecuteTime": {
     "end_time": "2025-01-14T14:18:47.882497Z",
     "start_time": "2025-01-14T14:18:47.879452Z"
    }
   },
   "cell_type": "code",
   "source": "distorted_series = series * reference",
   "id": "c5e60291e005b14f",
   "outputs": [],
   "execution_count": 8
  },
  {
   "metadata": {
    "ExecuteTime": {
     "end_time": "2025-01-14T14:18:48.454783Z",
     "start_time": "2025-01-14T14:18:47.942534Z"
    }
   },
   "cell_type": "code",
   "source": [
    "from src.transformations.transformers import FrameDependencyTransformer\n",
    "transformer = FrameDependencyTransformer()"
   ],
   "id": "8153541bbb1cc64a",
   "outputs": [],
   "execution_count": 9
  },
  {
   "metadata": {
    "ExecuteTime": {
     "end_time": "2025-01-14T14:18:48.490842Z",
     "start_time": "2025-01-14T14:18:48.485981Z"
    }
   },
   "cell_type": "code",
   "source": [
    "restored_series = transformer.fit(distorted_series, reference)\n",
    "assert np.allclose(series, restored_series)"
   ],
   "id": "ac0d66243e0310e5",
   "outputs": [],
   "execution_count": 10
  },
  {
   "metadata": {
    "ExecuteTime": {
     "end_time": "2025-01-14T14:19:01.214884Z",
     "start_time": "2025-01-14T14:19:01.210046Z"
    }
   },
   "cell_type": "code",
   "source": [
    "inverse_transformed_series = transformer.inverse_transform(restored_series, reference)\n",
    "assert np.allclose(distorted_series, inverse_transformed_series)"
   ],
   "id": "991dee0f0a08bf5a",
   "outputs": [],
   "execution_count": 12
  }
 ],
 "metadata": {
  "kernelspec": {
   "display_name": "Python 3",
   "language": "python",
   "name": "python3"
  },
  "language_info": {
   "codemirror_mode": {
    "name": "ipython",
    "version": 2
   },
   "file_extension": ".py",
   "mimetype": "text/x-python",
   "name": "python",
   "nbconvert_exporter": "python",
   "pygments_lexer": "ipython2",
   "version": "2.7.6"
  }
 },
 "nbformat": 4,
 "nbformat_minor": 5
}
